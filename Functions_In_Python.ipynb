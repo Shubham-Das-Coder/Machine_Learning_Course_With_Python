{
  "nbformat": 4,
  "nbformat_minor": 0,
  "metadata": {
    "colab": {
      "name": "Functions_In_Python.ipynb",
      "provenance": [],
      "collapsed_sections": [],
      "authorship_tag": "ABX9TyOzBohyJ3qcGWrlkWKz0KAy",
      "include_colab_link": true
    },
    "kernelspec": {
      "name": "python3",
      "display_name": "Python 3"
    },
    "language_info": {
      "name": "python"
    }
  },
  "cells": [
    {
      "cell_type": "markdown",
      "metadata": {
        "id": "view-in-github",
        "colab_type": "text"
      },
      "source": [
        "<a href=\"https://colab.research.google.com/github/Shubham-Das-Coder/Machine_Learning_Course_With_Python/blob/main/Functions_In_Python.ipynb\" target=\"_parent\"><img src=\"https://colab.research.google.com/assets/colab-badge.svg\" alt=\"Open In Colab\"/></a>"
      ]
    },
    {
      "cell_type": "markdown",
      "metadata": {
        "id": "s4hW_pmEO8bG"
      },
      "source": [
        "#***Factorial Of A Number***"
      ]
    },
    {
      "cell_type": "code",
      "metadata": {
        "colab": {
          "base_uri": "https://localhost:8080/"
        },
        "id": "JmzA6E7czuoN",
        "outputId": "ae44047d-3353-4b35-cfb6-43af26240d16"
      },
      "source": [
        "num=int(input(\"Enter a number : \"))\n",
        "\n",
        "factorial=1\n",
        "\n",
        "if(num==0):\n",
        "    print(\"The factorial of 0 is 1\")\n",
        "else:\n",
        "    for i in range(1,num+1):\n",
        "        factorial*=i\n",
        "    print(\"The factorial of \",num,\" is\",factorial)"
      ],
      "execution_count": 1,
      "outputs": [
        {
          "output_type": "stream",
          "name": "stdout",
          "text": [
            "Enter a number : 7\n",
            "The factorial of  7  is 5040\n"
          ]
        }
      ]
    },
    {
      "cell_type": "markdown",
      "metadata": {
        "id": "9tscNuWpP0jM"
      },
      "source": [
        "#***Factorial Function***"
      ]
    },
    {
      "cell_type": "code",
      "metadata": {
        "id": "NKgnRdz5PpaY"
      },
      "source": [
        "def factorial_value(num):\n",
        "    \n",
        "    factorial=1\n",
        "\n",
        "    if num==0:\n",
        "        return factorial\n",
        "    else:\n",
        "        for i in range(1,num+1):\n",
        "            factorial*=i\n",
        "        return factorial"
      ],
      "execution_count": 2,
      "outputs": []
    },
    {
      "cell_type": "code",
      "metadata": {
        "colab": {
          "base_uri": "https://localhost:8080/"
        },
        "id": "z0ek5XH6QWpi",
        "outputId": "9316aa97-f714-48f9-c12e-f9c5282cf939"
      },
      "source": [
        "factorial_value(5)"
      ],
      "execution_count": 3,
      "outputs": [
        {
          "output_type": "execute_result",
          "data": {
            "text/plain": [
              "120"
            ]
          },
          "metadata": {},
          "execution_count": 3
        }
      ]
    },
    {
      "cell_type": "code",
      "metadata": {
        "colab": {
          "base_uri": "https://localhost:8080/"
        },
        "id": "CmOUNeVSQdCb",
        "outputId": "10d5e637-c55e-4a06-a9e9-9b1771d7a210"
      },
      "source": [
        "factorial_value(6)"
      ],
      "execution_count": 4,
      "outputs": [
        {
          "output_type": "execute_result",
          "data": {
            "text/plain": [
              "720"
            ]
          },
          "metadata": {},
          "execution_count": 4
        }
      ]
    }
  ]
}