{
  "nbformat": 4,
  "nbformat_minor": 0,
  "metadata": {
    "colab": {
      "name": "Operators_In_Python.ipynb",
      "provenance": [],
      "collapsed_sections": [],
      "authorship_tag": "ABX9TyO13/g4zQOLS2kKck4HiROy",
      "include_colab_link": true
    },
    "kernelspec": {
      "name": "python3",
      "display_name": "Python 3"
    },
    "language_info": {
      "name": "python"
    }
  },
  "cells": [
    {
      "cell_type": "markdown",
      "metadata": {
        "id": "view-in-github",
        "colab_type": "text"
      },
      "source": [
        "<a href=\"https://colab.research.google.com/github/Shubham-Das-Coder/Machine_Learning_Course_With_Python/blob/main/Operators_In_Python.ipynb\" target=\"_parent\"><img src=\"https://colab.research.google.com/assets/colab-badge.svg\" alt=\"Open In Colab\"/></a>"
      ]
    },
    {
      "cell_type": "markdown",
      "metadata": {
        "id": "sYc6jITp-KgZ"
      },
      "source": [
        "#***Arithmetic Operators***"
      ]
    },
    {
      "cell_type": "code",
      "metadata": {
        "colab": {
          "base_uri": "https://localhost:8080/"
        },
        "id": "hXniRBHn-Ah3",
        "outputId": "a2b60258-c274-4e9c-f9f9-2dab9de2eb4c"
      },
      "source": [
        "num_1=20\n",
        "num_2=10\n",
        "\n",
        "#Addition\n",
        "sum=num_1+num_2\n",
        "print(\"Sum = \",sum)\n",
        "\n",
        "#Subtraction\n",
        "diff=num_1-num_2\n",
        "print(\"Difference = \",diff)\n",
        "\n",
        "#Multiplication\n",
        "prod=num_1*num_2\n",
        "print(\"Product = \",prod)\n",
        "\n",
        "#Division\n",
        "quo=num_1/num_2\n",
        "print(\"Quotient = \",quo)\n",
        "\n",
        "#Exponent\n",
        "exp=num_1**num_2\n",
        "print(\"Exponent = \",exp)\n",
        "\n",
        "#Modulus\n",
        "mod=num_1%num_2\n",
        "print(\"Remainder = \",mod)"
      ],
      "execution_count": 1,
      "outputs": [
        {
          "output_type": "stream",
          "name": "stdout",
          "text": [
            "Sum =  30\n",
            "Difference =  10\n",
            "Product =  200\n",
            "Quotient =  2.0\n",
            "Exponent =  10240000000000\n",
            "Remainder =  0\n"
          ]
        }
      ]
    },
    {
      "cell_type": "markdown",
      "metadata": {
        "id": "d5YnSmI3klC-"
      },
      "source": [
        "#***Assignment Operators***"
      ]
    },
    {
      "cell_type": "code",
      "metadata": {
        "colab": {
          "base_uri": "https://localhost:8080/"
        },
        "id": "0nkM2Z89_axy",
        "outputId": "7b286a08-d7b1-4ff7-ee1a-bd6ca1ca7ce4"
      },
      "source": [
        "a=6\n",
        "print(a)"
      ],
      "execution_count": 2,
      "outputs": [
        {
          "output_type": "stream",
          "name": "stdout",
          "text": [
            "6\n"
          ]
        }
      ]
    },
    {
      "cell_type": "code",
      "metadata": {
        "colab": {
          "base_uri": "https://localhost:8080/"
        },
        "id": "DHpNFhdjk1aW",
        "outputId": "2a94bf17-b2c7-43e9-a228-3acb8a691ed4"
      },
      "source": [
        "b=7\n",
        "b+=2\n",
        "print(b)"
      ],
      "execution_count": 3,
      "outputs": [
        {
          "output_type": "stream",
          "name": "stdout",
          "text": [
            "9\n"
          ]
        }
      ]
    },
    {
      "cell_type": "code",
      "metadata": {
        "colab": {
          "base_uri": "https://localhost:8080/"
        },
        "id": "hKtnwovKlsCK",
        "outputId": "abd4e50d-b146-41c1-9af2-59e52b4cd28d"
      },
      "source": [
        "c=8\n",
        "c-=4\n",
        "print(c)"
      ],
      "execution_count": 4,
      "outputs": [
        {
          "output_type": "stream",
          "name": "stdout",
          "text": [
            "4\n"
          ]
        }
      ]
    },
    {
      "cell_type": "code",
      "metadata": {
        "colab": {
          "base_uri": "https://localhost:8080/"
        },
        "id": "cbhO0031lxpC",
        "outputId": "fd4cb555-7409-445e-c4a6-a5082073d534"
      },
      "source": [
        "d=7\n",
        "d*=3\n",
        "print(d)"
      ],
      "execution_count": 5,
      "outputs": [
        {
          "output_type": "stream",
          "name": "stdout",
          "text": [
            "21\n"
          ]
        }
      ]
    },
    {
      "cell_type": "code",
      "metadata": {
        "colab": {
          "base_uri": "https://localhost:8080/"
        },
        "id": "8McbXoYsl727",
        "outputId": "6de5729d-4da4-4431-fd7f-868ada220e5c"
      },
      "source": [
        "e=5\n",
        "e/=5\n",
        "print(e)"
      ],
      "execution_count": 6,
      "outputs": [
        {
          "output_type": "stream",
          "name": "stdout",
          "text": [
            "1.0\n"
          ]
        }
      ]
    },
    {
      "cell_type": "code",
      "metadata": {
        "colab": {
          "base_uri": "https://localhost:8080/"
        },
        "id": "0xkeaUFnmACK",
        "outputId": "446f1f79-f749-48d0-e878-6fda0dfb613a"
      },
      "source": [
        "f=2\n",
        "f**=5\n",
        "print(f)"
      ],
      "execution_count": 7,
      "outputs": [
        {
          "output_type": "stream",
          "name": "stdout",
          "text": [
            "32\n"
          ]
        }
      ]
    },
    {
      "cell_type": "code",
      "metadata": {
        "colab": {
          "base_uri": "https://localhost:8080/"
        },
        "id": "hZESonICmHkh",
        "outputId": "23ce5ff2-4471-4ea2-fb66-1739ea945ae3"
      },
      "source": [
        "g=4\n",
        "g%=2\n",
        "print(g)"
      ],
      "execution_count": 8,
      "outputs": [
        {
          "output_type": "stream",
          "name": "stdout",
          "text": [
            "0\n"
          ]
        }
      ]
    },
    {
      "cell_type": "markdown",
      "metadata": {
        "id": "NdR3W0TMmR5D"
      },
      "source": [
        "#***Comparison Operators***"
      ]
    },
    {
      "cell_type": "code",
      "metadata": {
        "colab": {
          "base_uri": "https://localhost:8080/"
        },
        "id": "wAXhBTYimNMq",
        "outputId": "0fe91ba6-9bae-499a-dbd1-dedd057a35f0"
      },
      "source": [
        "a=5\n",
        "b=10\n",
        "print(a==b)\n",
        "print(a!=b)\n",
        "print(a>b)\n",
        "print(a<b)\n",
        "print(a>=b)\n",
        "print(a<=b)"
      ],
      "execution_count": 9,
      "outputs": [
        {
          "output_type": "stream",
          "name": "stdout",
          "text": [
            "False\n",
            "True\n",
            "False\n",
            "True\n",
            "False\n",
            "True\n"
          ]
        }
      ]
    },
    {
      "cell_type": "markdown",
      "metadata": {
        "id": "i6dgnR8Jm0VU"
      },
      "source": [
        "#***Logical Operators***"
      ]
    },
    {
      "cell_type": "code",
      "metadata": {
        "colab": {
          "base_uri": "https://localhost:8080/"
        },
        "id": "arMr081tmwtT",
        "outputId": "dac6bb12-8006-44ca-ad34-7be16da11212"
      },
      "source": [
        "print(20>10 and 43<64)\n",
        "print(45>34 and 37>98)\n",
        "print(31<23 and 56>18)\n",
        "print(74<42 and 65>99)"
      ],
      "execution_count": 10,
      "outputs": [
        {
          "output_type": "stream",
          "name": "stdout",
          "text": [
            "True\n",
            "False\n",
            "False\n",
            "False\n"
          ]
        }
      ]
    },
    {
      "cell_type": "code",
      "metadata": {
        "colab": {
          "base_uri": "https://localhost:8080/"
        },
        "id": "WYsYUjxancM6",
        "outputId": "a717228d-a0c5-495c-cd9b-71499b8d111d"
      },
      "source": [
        "print(20>10 or 43<64)\n",
        "print(45>34 or 37>98)\n",
        "print(31<23 or 56>18)\n",
        "print(74<42 or 65>99)"
      ],
      "execution_count": 11,
      "outputs": [
        {
          "output_type": "stream",
          "name": "stdout",
          "text": [
            "True\n",
            "True\n",
            "True\n",
            "False\n"
          ]
        }
      ]
    },
    {
      "cell_type": "code",
      "metadata": {
        "colab": {
          "base_uri": "https://localhost:8080/"
        },
        "id": "0gYbzRrrnlea",
        "outputId": "dea1aec7-42c4-4a18-c6f0-f5c3ba250340"
      },
      "source": [
        "print(not(20>10 and 43<64))\n",
        "print(not(45>34 and 37>98))\n",
        "print(not(31<23 and 56>18))\n",
        "print(not(74<42 and 65>99))"
      ],
      "execution_count": 12,
      "outputs": [
        {
          "output_type": "stream",
          "name": "stdout",
          "text": [
            "False\n",
            "True\n",
            "True\n",
            "True\n"
          ]
        }
      ]
    },
    {
      "cell_type": "markdown",
      "metadata": {
        "id": "jr6-DhO8nurL"
      },
      "source": [
        "#***Identity Operators***"
      ]
    },
    {
      "cell_type": "code",
      "metadata": {
        "colab": {
          "base_uri": "https://localhost:8080/"
        },
        "id": "2GmKzq6Gnsh6",
        "outputId": "81d516bd-5fb3-4b94-8652-5b2381e31541"
      },
      "source": [
        "a=12\n",
        "b=12\n",
        "print(a is b)"
      ],
      "execution_count": 13,
      "outputs": [
        {
          "output_type": "stream",
          "name": "stdout",
          "text": [
            "True\n"
          ]
        }
      ]
    },
    {
      "cell_type": "code",
      "metadata": {
        "colab": {
          "base_uri": "https://localhost:8080/"
        },
        "id": "9i_057Yan8hZ",
        "outputId": "3b0a71ed-0477-487a-bd80-66eafcab5f3e"
      },
      "source": [
        "c=23\n",
        "d=59\n",
        "print(c is d)"
      ],
      "execution_count": 14,
      "outputs": [
        {
          "output_type": "stream",
          "name": "stdout",
          "text": [
            "False\n"
          ]
        }
      ]
    },
    {
      "cell_type": "code",
      "metadata": {
        "colab": {
          "base_uri": "https://localhost:8080/"
        },
        "id": "M14DwIQVoEHC",
        "outputId": "c14026dc-43a2-4863-ee50-4028b0ef48a6"
      },
      "source": [
        "e=39\n",
        "f=39\n",
        "print(e is not f)"
      ],
      "execution_count": 15,
      "outputs": [
        {
          "output_type": "stream",
          "name": "stdout",
          "text": [
            "False\n"
          ]
        }
      ]
    },
    {
      "cell_type": "code",
      "metadata": {
        "colab": {
          "base_uri": "https://localhost:8080/"
        },
        "id": "kogqQ-i_oK1a",
        "outputId": "7e8fa570-0491-4e79-99dc-6ad5630d09b9"
      },
      "source": [
        "g=76\n",
        "h=61\n",
        "print(g is not h)"
      ],
      "execution_count": 16,
      "outputs": [
        {
          "output_type": "stream",
          "name": "stdout",
          "text": [
            "True\n"
          ]
        }
      ]
    },
    {
      "cell_type": "markdown",
      "metadata": {
        "id": "3HTmBv3voVnb"
      },
      "source": [
        "#***Membership Operators***"
      ]
    },
    {
      "cell_type": "code",
      "metadata": {
        "colab": {
          "base_uri": "https://localhost:8080/"
        },
        "id": "7A-Bz_pRoayZ",
        "outputId": "0f41a179-c6d9-4076-bb9f-c80214901bc5"
      },
      "source": [
        "a=5\n",
        "b=10\n",
        "\n",
        "c=[1,2,3,4,5]\n",
        "\n",
        "print(a in c)\n",
        "print(b in c)\n",
        "print(a not in c)\n",
        "print(b not in c)"
      ],
      "execution_count": 17,
      "outputs": [
        {
          "output_type": "stream",
          "name": "stdout",
          "text": [
            "True\n",
            "False\n",
            "False\n",
            "True\n"
          ]
        }
      ]
    }
  ]
}