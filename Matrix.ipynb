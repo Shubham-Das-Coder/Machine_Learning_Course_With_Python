{
  "nbformat": 4,
  "nbformat_minor": 0,
  "metadata": {
    "colab": {
      "name": "Matrix.ipynb",
      "provenance": [],
      "collapsed_sections": [],
      "authorship_tag": "ABX9TyP53HtLIcFUgc39S0LQf5dB",
      "include_colab_link": true
    },
    "kernelspec": {
      "name": "python3",
      "display_name": "Python 3"
    },
    "language_info": {
      "name": "python"
    }
  },
  "cells": [
    {
      "cell_type": "markdown",
      "metadata": {
        "id": "view-in-github",
        "colab_type": "text"
      },
      "source": [
        "<a href=\"https://colab.research.google.com/github/Shubham-Das-Coder/Machine_Learning_Course_With_Python/blob/main/Matrix.ipynb\" target=\"_parent\"><img src=\"https://colab.research.google.com/assets/colab-badge.svg\" alt=\"Open In Colab\"/></a>"
      ]
    },
    {
      "cell_type": "code",
      "metadata": {
        "id": "NcyvCxywGEwI"
      },
      "source": [
        "#Importing the libraries\n",
        "import numpy as np"
      ],
      "execution_count": 1,
      "outputs": []
    },
    {
      "cell_type": "code",
      "metadata": {
        "colab": {
          "base_uri": "https://localhost:8080/"
        },
        "id": "6A6fRXQl3es3",
        "outputId": "c7c4cee5-c780-42cb-e66a-09364c526511"
      },
      "source": [
        "#Creating a matrix using numpy\n",
        "matrix_1=np.array([[2,3],[6,7]])\n",
        "print(matrix_1)"
      ],
      "execution_count": 2,
      "outputs": [
        {
          "output_type": "stream",
          "name": "stdout",
          "text": [
            "[[2 3]\n",
            " [6 7]]\n"
          ]
        }
      ]
    },
    {
      "cell_type": "code",
      "metadata": {
        "colab": {
          "base_uri": "https://localhost:8080/"
        },
        "id": "5S_NiSbd3r19",
        "outputId": "4cab8013-f56e-427e-b255-5859395742b9"
      },
      "source": [
        "#Displaying the shape of the matrix\n",
        "matrix_1.shape"
      ],
      "execution_count": 3,
      "outputs": [
        {
          "output_type": "execute_result",
          "data": {
            "text/plain": [
              "(2, 2)"
            ]
          },
          "metadata": {},
          "execution_count": 3
        }
      ]
    },
    {
      "cell_type": "code",
      "metadata": {
        "colab": {
          "base_uri": "https://localhost:8080/"
        },
        "id": "3wtS5GHs3wdF",
        "outputId": "4a4121a0-5b49-4d45-f719-93436e9633d3"
      },
      "source": [
        "#Creating a matrix using numpy\n",
        "matrix_2=np.array([[10,35,45],[50,64,80],[20,15,90]])\n",
        "print(matrix_2)"
      ],
      "execution_count": 4,
      "outputs": [
        {
          "output_type": "stream",
          "name": "stdout",
          "text": [
            "[[10 35 45]\n",
            " [50 64 80]\n",
            " [20 15 90]]\n"
          ]
        }
      ]
    },
    {
      "cell_type": "code",
      "metadata": {
        "colab": {
          "base_uri": "https://localhost:8080/"
        },
        "id": "ty-ooY6x4EdM",
        "outputId": "8f39fcf1-582a-4369-f2e4-9947cc64de00"
      },
      "source": [
        "#Displaying the shape of the matrix\n",
        "matrix_2.shape"
      ],
      "execution_count": 5,
      "outputs": [
        {
          "output_type": "execute_result",
          "data": {
            "text/plain": [
              "(3, 3)"
            ]
          },
          "metadata": {},
          "execution_count": 5
        }
      ]
    },
    {
      "cell_type": "code",
      "metadata": {
        "colab": {
          "base_uri": "https://localhost:8080/"
        },
        "id": "NJSSHBFJ4Lrm",
        "outputId": "e0ca11d6-16c2-4a00-b12e-17949c980893"
      },
      "source": [
        "#Creating matrices with random floating values\n",
        "random_matrix=np.random.rand(3,3)\n",
        "print(random_matrix)"
      ],
      "execution_count": 6,
      "outputs": [
        {
          "output_type": "stream",
          "name": "stdout",
          "text": [
            "[[0.32198576 0.19881617 0.73585813]\n",
            " [0.94116712 0.38529217 0.51295207]\n",
            " [0.34877718 0.73586163 0.58329141]]\n"
          ]
        }
      ]
    },
    {
      "cell_type": "code",
      "metadata": {
        "colab": {
          "base_uri": "https://localhost:8080/"
        },
        "id": "xWQeNTrc4bON",
        "outputId": "102b15ff-c0e1-4f6d-bd18-f483aa3189d0"
      },
      "source": [
        "#Creating matrices with random integer values\n",
        "random_integer_matrix=np.random.randint(100,size=(4,4))\n",
        "print(random_integer_matrix)"
      ],
      "execution_count": 7,
      "outputs": [
        {
          "output_type": "stream",
          "name": "stdout",
          "text": [
            "[[86 17 71  4]\n",
            " [93 30 86 55]\n",
            " [55  2 50 50]\n",
            " [54 34  8 74]]\n"
          ]
        }
      ]
    },
    {
      "cell_type": "code",
      "metadata": {
        "colab": {
          "base_uri": "https://localhost:8080/"
        },
        "id": "lwyv1Fzy4uts",
        "outputId": "563f4c7a-63be-4b91-87b7-440caaa95849"
      },
      "source": [
        "#Matrix with all the values as 1\n",
        "matrix_with_ones=np.ones((3,4))\n",
        "print(matrix_with_ones)"
      ],
      "execution_count": 8,
      "outputs": [
        {
          "output_type": "stream",
          "name": "stdout",
          "text": [
            "[[1. 1. 1. 1.]\n",
            " [1. 1. 1. 1.]\n",
            " [1. 1. 1. 1.]]\n"
          ]
        }
      ]
    },
    {
      "cell_type": "code",
      "metadata": {
        "colab": {
          "base_uri": "https://localhost:8080/"
        },
        "id": "X5vLGgMS46CE",
        "outputId": "fbb05bce-908d-4fd1-d51f-6270641626ce"
      },
      "source": [
        "#Matrix with all the values as 1\n",
        "matrix_with_ones_2=np.ones((4,3),dtype=int)\n",
        "print(matrix_with_ones_2)"
      ],
      "execution_count": 9,
      "outputs": [
        {
          "output_type": "stream",
          "name": "stdout",
          "text": [
            "[[1 1 1]\n",
            " [1 1 1]\n",
            " [1 1 1]\n",
            " [1 1 1]]\n"
          ]
        }
      ]
    },
    {
      "cell_type": "code",
      "metadata": {
        "colab": {
          "base_uri": "https://localhost:8080/"
        },
        "id": "-Edk1P8P5Wgv",
        "outputId": "d59c5782-b63f-44fe-ed5a-398982fca04d"
      },
      "source": [
        "#Null matrix or zero matrix\n",
        "null_matrix=np.zeros((5,5))\n",
        "print(null_matrix)"
      ],
      "execution_count": 10,
      "outputs": [
        {
          "output_type": "stream",
          "name": "stdout",
          "text": [
            "[[0. 0. 0. 0. 0.]\n",
            " [0. 0. 0. 0. 0.]\n",
            " [0. 0. 0. 0. 0.]\n",
            " [0. 0. 0. 0. 0.]\n",
            " [0. 0. 0. 0. 0.]]\n"
          ]
        }
      ]
    },
    {
      "cell_type": "code",
      "metadata": {
        "colab": {
          "base_uri": "https://localhost:8080/"
        },
        "id": "unqy3s1f5jIF",
        "outputId": "803f9df0-721a-4472-b8e2-002a555653f0"
      },
      "source": [
        "#Identity matrix\n",
        "identity_matrix=np.eye(3,3)\n",
        "print(identity_matrix)"
      ],
      "execution_count": 11,
      "outputs": [
        {
          "output_type": "stream",
          "name": "stdout",
          "text": [
            "[[1. 0. 0.]\n",
            " [0. 1. 0.]\n",
            " [0. 0. 1.]]\n"
          ]
        }
      ]
    },
    {
      "cell_type": "code",
      "metadata": {
        "colab": {
          "base_uri": "https://localhost:8080/"
        },
        "id": "WFvXX1QT5wu0",
        "outputId": "13c470ef-faf2-4f5a-bb85-c0bd561b39fb"
      },
      "source": [
        "#Transpose of a matrix\n",
        "a=np.random.randint(100,size=(4,4))\n",
        "print(a)\n",
        "transpose_of_a=np.transpose(a)\n",
        "print(transpose_of_a)"
      ],
      "execution_count": 12,
      "outputs": [
        {
          "output_type": "stream",
          "name": "stdout",
          "text": [
            "[[56 23 40 90]\n",
            " [47 29 33 38]\n",
            " [84 33 98 64]\n",
            " [49 36 65 29]]\n",
            "[[56 47 84 49]\n",
            " [23 29 33 36]\n",
            " [40 33 98 65]\n",
            " [90 38 64 29]]\n"
          ]
        }
      ]
    },
    {
      "cell_type": "code",
      "metadata": {
        "colab": {
          "base_uri": "https://localhost:8080/"
        },
        "id": "STiyTTwx8kJe",
        "outputId": "5063572b-9231-482b-bda5-766a6aaf14e5"
      },
      "source": [
        "#Transpose of a matrix\n",
        "b=np.random.randint(100,size=(3,4))\n",
        "print(b)\n",
        "transpose_of_b=np.transpose(b)\n",
        "print(transpose_of_b)"
      ],
      "execution_count": 13,
      "outputs": [
        {
          "output_type": "stream",
          "name": "stdout",
          "text": [
            "[[92 36 40 60]\n",
            " [16 70 17 94]\n",
            " [42 76 74 83]]\n",
            "[[92 16 42]\n",
            " [36 70 76]\n",
            " [40 17 74]\n",
            " [60 94 83]]\n"
          ]
        }
      ]
    },
    {
      "cell_type": "code",
      "metadata": {
        "colab": {
          "base_uri": "https://localhost:8080/"
        },
        "id": "DqrZqbMs8rZM",
        "outputId": "4ee3f710-f89e-4065-83b8-3621c49b7ab7"
      },
      "source": [
        "#Addition of matrices\n",
        "A=np.array([[2,3],[4,5]])\n",
        "print(A)\n",
        "B=np.array([[6,7],[8,9]])\n",
        "print(B)"
      ],
      "execution_count": 14,
      "outputs": [
        {
          "output_type": "stream",
          "name": "stdout",
          "text": [
            "[[2 3]\n",
            " [4 5]]\n",
            "[[6 7]\n",
            " [8 9]]\n"
          ]
        }
      ]
    },
    {
      "cell_type": "code",
      "metadata": {
        "colab": {
          "base_uri": "https://localhost:8080/"
        },
        "id": "a3fEZW5XWMLa",
        "outputId": "8268662a-5516-4b71-9323-3ac048e99977"
      },
      "source": [
        "A.shape\n",
        "B.shape"
      ],
      "execution_count": 15,
      "outputs": [
        {
          "output_type": "execute_result",
          "data": {
            "text/plain": [
              "(2, 2)"
            ]
          },
          "metadata": {},
          "execution_count": 15
        }
      ]
    },
    {
      "cell_type": "code",
      "metadata": {
        "colab": {
          "base_uri": "https://localhost:8080/"
        },
        "id": "Z9KXdlKcWQXY",
        "outputId": "f7695fcf-45dc-4f3f-8657-dce2dac87266"
      },
      "source": [
        "sum=A+B\n",
        "print(sum)"
      ],
      "execution_count": 16,
      "outputs": [
        {
          "output_type": "stream",
          "name": "stdout",
          "text": [
            "[[ 8 10]\n",
            " [12 14]]\n"
          ]
        }
      ]
    },
    {
      "cell_type": "code",
      "metadata": {
        "id": "E-8dAOvzWU_g"
      },
      "source": [
        "#Creating two matrices with random values\n",
        "matrix_1=np.random.randint(10,size=(3,3))\n",
        "matrix_2=np.random.randint(10,size=(3,3))"
      ],
      "execution_count": 17,
      "outputs": []
    },
    {
      "cell_type": "code",
      "metadata": {
        "colab": {
          "base_uri": "https://localhost:8080/"
        },
        "id": "QlN9uBn9WmUR",
        "outputId": "9b611d7b-9da1-44ea-a07a-7c59ffd432f2"
      },
      "source": [
        "print(matrix_1)"
      ],
      "execution_count": 18,
      "outputs": [
        {
          "output_type": "stream",
          "name": "stdout",
          "text": [
            "[[6 4 9]\n",
            " [8 4 9]\n",
            " [6 5 0]]\n"
          ]
        }
      ]
    },
    {
      "cell_type": "code",
      "metadata": {
        "colab": {
          "base_uri": "https://localhost:8080/"
        },
        "id": "FFAEJvugWnYQ",
        "outputId": "9d7fa95d-98bf-470e-9d03-9189f99713e3"
      },
      "source": [
        "print(matrix_2)"
      ],
      "execution_count": 19,
      "outputs": [
        {
          "output_type": "stream",
          "name": "stdout",
          "text": [
            "[[5 5 5]\n",
            " [8 2 3]\n",
            " [6 3 5]]\n"
          ]
        }
      ]
    },
    {
      "cell_type": "code",
      "metadata": {
        "colab": {
          "base_uri": "https://localhost:8080/"
        },
        "id": "Zo7fQagdWo2o",
        "outputId": "6d8dd335-20e7-4bac-ead2-8918f112a1d7"
      },
      "source": [
        "sum=np.add(matrix_1,matrix_2)\n",
        "print(sum)"
      ],
      "execution_count": 20,
      "outputs": [
        {
          "output_type": "stream",
          "name": "stdout",
          "text": [
            "[[11  9 14]\n",
            " [16  6 12]\n",
            " [12  8  5]]\n"
          ]
        }
      ]
    },
    {
      "cell_type": "code",
      "metadata": {
        "colab": {
          "base_uri": "https://localhost:8080/"
        },
        "id": "Z1VOoHSWWt0o",
        "outputId": "8ad506d5-a261-4717-c584-22e9e17a7eec"
      },
      "source": [
        "#Subtraction of two matrices\n",
        "A=np.array([[5,6],[7,8]])\n",
        "B=np.array([[1,2],[3,4]])\n",
        "print(A)\n",
        "print(B)"
      ],
      "execution_count": 21,
      "outputs": [
        {
          "output_type": "stream",
          "name": "stdout",
          "text": [
            "[[5 6]\n",
            " [7 8]]\n",
            "[[1 2]\n",
            " [3 4]]\n"
          ]
        }
      ]
    },
    {
      "cell_type": "code",
      "metadata": {
        "colab": {
          "base_uri": "https://localhost:8080/"
        },
        "id": "gHKwr8S7XRFl",
        "outputId": "0571c459-b83f-4a15-9ca5-16b0796b2280"
      },
      "source": [
        "difference=A-B\n",
        "print(difference)"
      ],
      "execution_count": 22,
      "outputs": [
        {
          "output_type": "stream",
          "name": "stdout",
          "text": [
            "[[4 4]\n",
            " [4 4]]\n"
          ]
        }
      ]
    },
    {
      "cell_type": "code",
      "metadata": {
        "id": "rAJ1EuEaXUb_"
      },
      "source": [
        "#Creating two matrices with random values\n",
        "matrix1=np.random.randint(10,size=(3,3))\n",
        "matrix2=np.random.randint(10,size=(3,3))"
      ],
      "execution_count": 23,
      "outputs": []
    },
    {
      "cell_type": "code",
      "metadata": {
        "colab": {
          "base_uri": "https://localhost:8080/"
        },
        "id": "_1ILL3--XdP4",
        "outputId": "8760f3d1-6ecc-4f6b-9ed4-111354624ea2"
      },
      "source": [
        "print(matrix1)\n",
        "print(matrix2)"
      ],
      "execution_count": 24,
      "outputs": [
        {
          "output_type": "stream",
          "name": "stdout",
          "text": [
            "[[6 6 3]\n",
            " [2 8 0]\n",
            " [9 3 0]]\n",
            "[[9 0 9]\n",
            " [4 3 0]\n",
            " [0 4 4]]\n"
          ]
        }
      ]
    },
    {
      "cell_type": "code",
      "metadata": {
        "colab": {
          "base_uri": "https://localhost:8080/"
        },
        "id": "D0ofuB2kXgm5",
        "outputId": "91ff9f6e-8f19-46a9-a3bb-4eec635e32e1"
      },
      "source": [
        "diff=np.subtract(matrix1,matrix2)\n",
        "print(diff)"
      ],
      "execution_count": 25,
      "outputs": [
        {
          "output_type": "stream",
          "name": "stdout",
          "text": [
            "[[-3  6 -6]\n",
            " [-2  5  0]\n",
            " [ 9 -1 -4]]\n"
          ]
        }
      ]
    },
    {
      "cell_type": "code",
      "metadata": {
        "colab": {
          "base_uri": "https://localhost:8080/"
        },
        "id": "nmMaQkF0XnHx",
        "outputId": "26820e3e-1d2f-4ccd-cfd5-9064e578251e"
      },
      "source": [
        "#Multiplying a matrix by a scalar\n",
        "x=5\n",
        "y=np.random.randint(10,size=(4,4))\n",
        "print(y)"
      ],
      "execution_count": 26,
      "outputs": [
        {
          "output_type": "stream",
          "name": "stdout",
          "text": [
            "[[7 6 2 5]\n",
            " [0 8 9 6]\n",
            " [5 5 5 9]\n",
            " [4 1 0 6]]\n"
          ]
        }
      ]
    },
    {
      "cell_type": "code",
      "metadata": {
        "colab": {
          "base_uri": "https://localhost:8080/"
        },
        "id": "yjJMc1bJX9u6",
        "outputId": "cc227429-f17c-428f-84fc-29f2f0cddf40"
      },
      "source": [
        "product=np.multiply(x,y)\n",
        "print(product)"
      ],
      "execution_count": 27,
      "outputs": [
        {
          "output_type": "stream",
          "name": "stdout",
          "text": [
            "[[35 30 10 25]\n",
            " [ 0 40 45 30]\n",
            " [25 25 25 45]\n",
            " [20  5  0 30]]\n"
          ]
        }
      ]
    },
    {
      "cell_type": "code",
      "metadata": {
        "colab": {
          "base_uri": "https://localhost:8080/"
        },
        "id": "uxIi_XI3YChA",
        "outputId": "023fc894-92b7-406e-bbdb-de74f45f54ac"
      },
      "source": [
        "#Multiplying 2 matrices\n",
        "Matrix_1=np.random.randint(5,size=(3,3))\n",
        "Matrix_2=np.random.randint(5,size=(3,4))\n",
        "print(Matrix_1)\n",
        "print(Matrix_2)"
      ],
      "execution_count": 28,
      "outputs": [
        {
          "output_type": "stream",
          "name": "stdout",
          "text": [
            "[[3 4 2]\n",
            " [4 3 4]\n",
            " [1 3 0]]\n",
            "[[0 4 1 3]\n",
            " [0 2 0 0]\n",
            " [4 2 0 1]]\n"
          ]
        }
      ]
    },
    {
      "cell_type": "code",
      "metadata": {
        "colab": {
          "base_uri": "https://localhost:8080/"
        },
        "id": "l-OtlGlvYXdZ",
        "outputId": "6f6f4445-1516-48df-b190-8d777f1db231"
      },
      "source": [
        "prod=np.dot(Matrix_1,Matrix_2)\n",
        "print(prod)"
      ],
      "execution_count": 29,
      "outputs": [
        {
          "output_type": "stream",
          "name": "stdout",
          "text": [
            "[[ 8 24  3 11]\n",
            " [16 30  4 16]\n",
            " [ 0 10  1  3]]\n"
          ]
        }
      ]
    },
    {
      "cell_type": "code",
      "metadata": {
        "colab": {
          "base_uri": "https://localhost:8080/"
        },
        "id": "lut9QnZ4YcQ4",
        "outputId": "fe693144-6147-4d91-d7c1-2334076ba8b0"
      },
      "source": [
        "prod.shape"
      ],
      "execution_count": 30,
      "outputs": [
        {
          "output_type": "execute_result",
          "data": {
            "text/plain": [
              "(3, 4)"
            ]
          },
          "metadata": {},
          "execution_count": 30
        }
      ]
    },
    {
      "cell_type": "code",
      "metadata": {
        "colab": {
          "base_uri": "https://localhost:8080/"
        },
        "id": "lH4IoderYgVQ",
        "outputId": "6817500a-8fbb-42fd-a3bd-9737c309b84b"
      },
      "source": [
        "#Multiplying 2 matrices\n",
        "Matrix_1=np.random.randint(5,size=(3,3))\n",
        "Matrix_2=np.random.randint(5,size=(3,3))\n",
        "print(Matrix_1)\n",
        "print(Matrix_2)"
      ],
      "execution_count": 31,
      "outputs": [
        {
          "output_type": "stream",
          "name": "stdout",
          "text": [
            "[[0 4 3]\n",
            " [3 2 1]\n",
            " [3 3 4]]\n",
            "[[3 3 0]\n",
            " [0 2 4]\n",
            " [1 2 3]]\n"
          ]
        }
      ]
    },
    {
      "cell_type": "code",
      "metadata": {
        "colab": {
          "base_uri": "https://localhost:8080/"
        },
        "id": "x3_rkWbFYqG6",
        "outputId": "66bbebb7-d46e-44db-ed8c-98c06cbeda38"
      },
      "source": [
        "prod=np.dot(Matrix_1,Matrix_2)\n",
        "print(prod)"
      ],
      "execution_count": 32,
      "outputs": [
        {
          "output_type": "stream",
          "name": "stdout",
          "text": [
            "[[ 3 14 25]\n",
            " [10 15 11]\n",
            " [13 23 24]]\n"
          ]
        }
      ]
    },
    {
      "cell_type": "code",
      "metadata": {
        "colab": {
          "base_uri": "https://localhost:8080/"
        },
        "id": "NBT_QuY2YuIQ",
        "outputId": "d830b5ee-8fb6-4230-d903-dc6d48e8950e"
      },
      "source": [
        "prod.shape"
      ],
      "execution_count": 33,
      "outputs": [
        {
          "output_type": "execute_result",
          "data": {
            "text/plain": [
              "(3, 3)"
            ]
          },
          "metadata": {},
          "execution_count": 33
        }
      ]
    },
    {
      "cell_type": "code",
      "metadata": {
        "colab": {
          "base_uri": "https://localhost:8080/"
        },
        "id": "kRl7F5pbYycQ",
        "outputId": "02a85110-35e6-4bfe-82c7-36edb89c5f79"
      },
      "source": [
        "mat_1=np.random.randint(5,size=(3,3))\n",
        "mat_2=np.random.randint(5,size=(3,3))\n",
        "print(mat_1)\n",
        "print(mat_2)"
      ],
      "execution_count": 34,
      "outputs": [
        {
          "output_type": "stream",
          "name": "stdout",
          "text": [
            "[[3 4 4]\n",
            " [0 3 3]\n",
            " [1 2 2]]\n",
            "[[4 4 3]\n",
            " [3 4 0]\n",
            " [4 0 4]]\n"
          ]
        }
      ]
    },
    {
      "cell_type": "code",
      "metadata": {
        "colab": {
          "base_uri": "https://localhost:8080/"
        },
        "id": "t3begvCaZpJB",
        "outputId": "ba9aa44b-fb96-433d-c5b5-120f522736b1"
      },
      "source": [
        "mult=np.multiply(mat_1,mat_2)\n",
        "print(mult)"
      ],
      "execution_count": 35,
      "outputs": [
        {
          "output_type": "stream",
          "name": "stdout",
          "text": [
            "[[12 16 12]\n",
            " [ 0 12  0]\n",
            " [ 4  0  8]]\n"
          ]
        }
      ]
    },
    {
      "cell_type": "code",
      "metadata": {
        "colab": {
          "base_uri": "https://localhost:8080/"
        },
        "id": "MHcTwVLOZxKA",
        "outputId": "75c662a0-ab9a-4e85-e44a-a9202b143a27"
      },
      "source": [
        "mult.shape"
      ],
      "execution_count": 36,
      "outputs": [
        {
          "output_type": "execute_result",
          "data": {
            "text/plain": [
              "(3, 3)"
            ]
          },
          "metadata": {},
          "execution_count": 36
        }
      ]
    }
  ]
}