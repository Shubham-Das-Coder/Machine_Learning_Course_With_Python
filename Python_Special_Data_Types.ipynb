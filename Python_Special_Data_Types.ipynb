{
  "nbformat": 4,
  "nbformat_minor": 0,
  "metadata": {
    "colab": {
      "name": "Python_Special_Data_Types.ipynb",
      "provenance": [],
      "collapsed_sections": [],
      "authorship_tag": "ABX9TyPaHBSeEPiyq++oyvwWK3FE",
      "include_colab_link": true
    },
    "kernelspec": {
      "name": "python3",
      "display_name": "Python 3"
    },
    "language_info": {
      "name": "python"
    }
  },
  "cells": [
    {
      "cell_type": "markdown",
      "metadata": {
        "id": "view-in-github",
        "colab_type": "text"
      },
      "source": [
        "<a href=\"https://colab.research.google.com/github/Shubham-Das-Coder/Machine_Learning_Course_With_Python/blob/main/Python_Special_Data_Types.ipynb\" target=\"_parent\"><img src=\"https://colab.research.google.com/assets/colab-badge.svg\" alt=\"Open In Colab\"/></a>"
      ]
    },
    {
      "cell_type": "markdown",
      "metadata": {
        "id": "An0cjStpLD25"
      },
      "source": [
        "#***Lists***"
      ]
    },
    {
      "cell_type": "code",
      "metadata": {
        "colab": {
          "base_uri": "https://localhost:8080/"
        },
        "id": "dPxtYfFYK5eX",
        "outputId": "db45e911-dc5a-4577-a8a1-3aa320753917"
      },
      "source": [
        "my_list=[1,2,3,4,5]\n",
        "print(my_list)\n",
        "type(my_list)"
      ],
      "execution_count": 1,
      "outputs": [
        {
          "output_type": "stream",
          "name": "stdout",
          "text": [
            "[1, 2, 3, 4, 5]\n"
          ]
        },
        {
          "output_type": "execute_result",
          "data": {
            "text/plain": [
              "list"
            ]
          },
          "metadata": {},
          "execution_count": 1
        }
      ]
    },
    {
      "cell_type": "code",
      "metadata": {
        "colab": {
          "base_uri": "https://localhost:8080/"
        },
        "id": "NUMxlIhILNwU",
        "outputId": "3377c795-5d75-4fcf-fd11-ee54fd57e8b4"
      },
      "source": [
        "my_list=[45,99.99,\"Shubham\",True]\n",
        "print(my_list)\n",
        "type(my_list)"
      ],
      "execution_count": 2,
      "outputs": [
        {
          "output_type": "stream",
          "name": "stdout",
          "text": [
            "[45, 99.99, 'Shubham', True]\n"
          ]
        },
        {
          "output_type": "execute_result",
          "data": {
            "text/plain": [
              "list"
            ]
          },
          "metadata": {},
          "execution_count": 2
        }
      ]
    },
    {
      "cell_type": "code",
      "metadata": {
        "colab": {
          "base_uri": "https://localhost:8080/"
        },
        "id": "dm7M3IfdLf6P",
        "outputId": "c45a68b8-19f9-4706-bdb7-b2f3d90f8e16"
      },
      "source": [
        "my_list=[45,99.99,\"Shubham\",True]\n",
        "my_list.append(\"Python\")\n",
        "print(my_list)"
      ],
      "execution_count": 3,
      "outputs": [
        {
          "output_type": "stream",
          "name": "stdout",
          "text": [
            "[45, 99.99, 'Shubham', True, 'Python']\n"
          ]
        }
      ]
    },
    {
      "cell_type": "code",
      "metadata": {
        "colab": {
          "base_uri": "https://localhost:8080/"
        },
        "id": "cMyVlgFfLuZn",
        "outputId": "618eabcb-0800-4ecc-f699-9c869d43a1a3"
      },
      "source": [
        "print(my_list[1])\n",
        "print(my_list[4])\n",
        "print(my_list[2])\n",
        "print(my_list[3])"
      ],
      "execution_count": 4,
      "outputs": [
        {
          "output_type": "stream",
          "name": "stdout",
          "text": [
            "99.99\n",
            "Python\n",
            "Shubham\n",
            "True\n"
          ]
        }
      ]
    },
    {
      "cell_type": "code",
      "metadata": {
        "colab": {
          "base_uri": "https://localhost:8080/"
        },
        "id": "O1J2vZXGL6PY",
        "outputId": "295484ff-69fb-46fe-b680-78278ad6c789"
      },
      "source": [
        "list_1=[1,1,2,2,3,3,4,4,5,5,6,6,7,7,8,8,9,9]\n",
        "print(list_1)"
      ],
      "execution_count": 5,
      "outputs": [
        {
          "output_type": "stream",
          "name": "stdout",
          "text": [
            "[1, 1, 2, 2, 3, 3, 4, 4, 5, 5, 6, 6, 7, 7, 8, 8, 9, 9]\n"
          ]
        }
      ]
    },
    {
      "cell_type": "code",
      "metadata": {
        "colab": {
          "base_uri": "https://localhost:8080/"
        },
        "id": "DvZmGL0LMDiB",
        "outputId": "f587c275-2851-4da9-ea1d-2a2c5c8fbc8d"
      },
      "source": [
        "print(len(list_1))"
      ],
      "execution_count": 6,
      "outputs": [
        {
          "output_type": "stream",
          "name": "stdout",
          "text": [
            "18\n"
          ]
        }
      ]
    },
    {
      "cell_type": "code",
      "metadata": {
        "colab": {
          "base_uri": "https://localhost:8080/"
        },
        "id": "q8cvV4umMM9J",
        "outputId": "24f370dd-dd1e-425b-8075-e7940d27c4ec"
      },
      "source": [
        "list_2=[]\n",
        "print(list_2)"
      ],
      "execution_count": 7,
      "outputs": [
        {
          "output_type": "stream",
          "name": "stdout",
          "text": [
            "[]\n"
          ]
        }
      ]
    },
    {
      "cell_type": "code",
      "metadata": {
        "colab": {
          "base_uri": "https://localhost:8080/"
        },
        "id": "NTVhyfMERgme",
        "outputId": "9cb12634-755c-47de-a402-528244002910"
      },
      "source": [
        "list_2.append(50)\n",
        "print(list_2)"
      ],
      "execution_count": 8,
      "outputs": [
        {
          "output_type": "stream",
          "name": "stdout",
          "text": [
            "[50]\n"
          ]
        }
      ]
    },
    {
      "cell_type": "code",
      "metadata": {
        "colab": {
          "base_uri": "https://localhost:8080/"
        },
        "id": "HhxXp6SARmNz",
        "outputId": "2faf8b85-8b1e-481d-8aff-e1ac1c666b29"
      },
      "source": [
        "list_2=[45, 99.99, 'Shubham', True, 'Python']\n",
        "print(list_2)\n",
        "del list_2[4]\n",
        "print(list_2)"
      ],
      "execution_count": 9,
      "outputs": [
        {
          "output_type": "stream",
          "name": "stdout",
          "text": [
            "[45, 99.99, 'Shubham', True, 'Python']\n",
            "[45, 99.99, 'Shubham', True]\n"
          ]
        }
      ]
    },
    {
      "cell_type": "code",
      "metadata": {
        "colab": {
          "base_uri": "https://localhost:8080/"
        },
        "id": "OADMfet3R9B5",
        "outputId": "d4adcee2-5c3b-4158-db77-74fec49f68bf"
      },
      "source": [
        "list_3=[1,3,5,7,9]\n",
        "list_4=[2,4,6,8]\n",
        "list_5=list_3 + list_4\n",
        "list_6=list_4 + list_3\n",
        "print(list_5)\n",
        "print(list_6)"
      ],
      "execution_count": 10,
      "outputs": [
        {
          "output_type": "stream",
          "name": "stdout",
          "text": [
            "[1, 3, 5, 7, 9, 2, 4, 6, 8]\n",
            "[2, 4, 6, 8, 1, 3, 5, 7, 9]\n"
          ]
        }
      ]
    },
    {
      "cell_type": "markdown",
      "metadata": {
        "id": "vH_m9nrPSY13"
      },
      "source": [
        "#***Tuples***"
      ]
    },
    {
      "cell_type": "code",
      "metadata": {
        "colab": {
          "base_uri": "https://localhost:8080/"
        },
        "id": "cNtJfwxaSWE8",
        "outputId": "364c1ae9-7272-4d9c-b4e9-8f83c709490d"
      },
      "source": [
        "tuple_1=(1,2,3,4,5)\n",
        "print(tuple_1)\n",
        "type(tuple_1)"
      ],
      "execution_count": 11,
      "outputs": [
        {
          "output_type": "stream",
          "name": "stdout",
          "text": [
            "(1, 2, 3, 4, 5)\n"
          ]
        },
        {
          "output_type": "execute_result",
          "data": {
            "text/plain": [
              "tuple"
            ]
          },
          "metadata": {},
          "execution_count": 11
        }
      ]
    },
    {
      "cell_type": "code",
      "metadata": {
        "colab": {
          "base_uri": "https://localhost:8080/"
        },
        "id": "1IRqJ6WuSlst",
        "outputId": "9ed6535f-cb5f-49fa-f972-028ec8e1054a"
      },
      "source": [
        "tuple_2=(99,\"Machine Learning\",False)\n",
        "print(tuple_2)"
      ],
      "execution_count": 12,
      "outputs": [
        {
          "output_type": "stream",
          "name": "stdout",
          "text": [
            "(99, 'Machine Learning', False)\n"
          ]
        }
      ]
    },
    {
      "cell_type": "code",
      "metadata": {
        "colab": {
          "base_uri": "https://localhost:8080/"
        },
        "id": "20CT7JgvSyPE",
        "outputId": "eec96f4c-367b-4750-8038-f3ed5c62f399"
      },
      "source": [
        "my_list=[1,2,3,4,5]\n",
        "print(my_list)\n",
        "\n",
        "my_tuple=tuple(my_list)\n",
        "print(my_tuple)"
      ],
      "execution_count": 13,
      "outputs": [
        {
          "output_type": "stream",
          "name": "stdout",
          "text": [
            "[1, 2, 3, 4, 5]\n",
            "(1, 2, 3, 4, 5)\n"
          ]
        }
      ]
    },
    {
      "cell_type": "code",
      "metadata": {
        "colab": {
          "base_uri": "https://localhost:8080/"
        },
        "id": "EUjd8KoGS_2X",
        "outputId": "5666bfc6-55c0-4a3d-a0cb-5860d1d61e92"
      },
      "source": [
        "print(my_tuple[0])\n",
        "print(my_tuple[2])\n",
        "print(my_tuple[4])"
      ],
      "execution_count": 14,
      "outputs": [
        {
          "output_type": "stream",
          "name": "stdout",
          "text": [
            "1\n",
            "3\n",
            "5\n"
          ]
        }
      ]
    },
    {
      "cell_type": "code",
      "metadata": {
        "colab": {
          "base_uri": "https://localhost:8080/"
        },
        "id": "VEbiBCU3TO6G",
        "outputId": "0e83c235-009d-4fb7-8694-a5e83c6c3ebc"
      },
      "source": [
        "print(len(my_tuple))"
      ],
      "execution_count": 15,
      "outputs": [
        {
          "output_type": "stream",
          "name": "stdout",
          "text": [
            "5\n"
          ]
        }
      ]
    },
    {
      "cell_type": "markdown",
      "metadata": {
        "id": "_NUKlZQFTcBp"
      },
      "source": [
        "#***Set***"
      ]
    },
    {
      "cell_type": "code",
      "metadata": {
        "colab": {
          "base_uri": "https://localhost:8080/"
        },
        "id": "RZSKW71TTaNf",
        "outputId": "784a86e1-a5f4-423d-b5ee-eb748e361167"
      },
      "source": [
        "my_set={1,2,3,4,5}\n",
        "print(my_set)\n",
        "type(my_set)"
      ],
      "execution_count": 16,
      "outputs": [
        {
          "output_type": "stream",
          "name": "stdout",
          "text": [
            "{1, 2, 3, 4, 5}\n"
          ]
        },
        {
          "output_type": "execute_result",
          "data": {
            "text/plain": [
              "set"
            ]
          },
          "metadata": {},
          "execution_count": 16
        }
      ]
    },
    {
      "cell_type": "code",
      "metadata": {
        "colab": {
          "base_uri": "https://localhost:8080/"
        },
        "id": "L9D-xk-5TkH-",
        "outputId": "c043e850-4db4-4bef-b2b3-2c4eb3273947"
      },
      "source": [
        "lst=[1,3,5,7,9]\n",
        "x=set(lst)\n",
        "print(x)"
      ],
      "execution_count": 17,
      "outputs": [
        {
          "output_type": "stream",
          "name": "stdout",
          "text": [
            "{1, 3, 5, 7, 9}\n"
          ]
        }
      ]
    },
    {
      "cell_type": "code",
      "metadata": {
        "colab": {
          "base_uri": "https://localhost:8080/"
        },
        "id": "tqh2OQ-oT03t",
        "outputId": "fc586166-68c0-4658-a599-3d2db67f63b3"
      },
      "source": [
        "set_3={1,2,3,4,5,6,7,8,9,1,2,3,4,5,6,7,8,9}\n",
        "print(set_3)"
      ],
      "execution_count": 18,
      "outputs": [
        {
          "output_type": "stream",
          "name": "stdout",
          "text": [
            "{1, 2, 3, 4, 5, 6, 7, 8, 9}\n"
          ]
        }
      ]
    },
    {
      "cell_type": "markdown",
      "metadata": {
        "id": "jm-Ja7XcUBlQ"
      },
      "source": [
        "#***Dictionary***"
      ]
    },
    {
      "cell_type": "code",
      "metadata": {
        "colab": {
          "base_uri": "https://localhost:8080/"
        },
        "id": "xmkNAcVBT_L2",
        "outputId": "af532f12-49cb-4c38-96df-67c6b321f575"
      },
      "source": [
        "my_dict={\"name\":\"Shubham\",\"age\":19,\"country\":\"India\"}\n",
        "print(my_dict)\n",
        "type(my_dict)"
      ],
      "execution_count": 19,
      "outputs": [
        {
          "output_type": "stream",
          "name": "stdout",
          "text": [
            "{'name': 'Shubham', 'age': 19, 'country': 'India'}\n"
          ]
        },
        {
          "output_type": "execute_result",
          "data": {
            "text/plain": [
              "dict"
            ]
          },
          "metadata": {},
          "execution_count": 19
        }
      ]
    },
    {
      "cell_type": "code",
      "metadata": {
        "colab": {
          "base_uri": "https://localhost:8080/"
        },
        "id": "EQAARCUbUXxm",
        "outputId": "b0716eaf-8255-4ae4-d37e-2181f032cca8"
      },
      "source": [
        "print(my_dict[\"name\"])\n",
        "print(my_dict[\"age\"])\n",
        "print(my_dict[\"country\"])"
      ],
      "execution_count": 20,
      "outputs": [
        {
          "output_type": "stream",
          "name": "stdout",
          "text": [
            "Shubham\n",
            "19\n",
            "India\n"
          ]
        }
      ]
    },
    {
      "cell_type": "code",
      "metadata": {
        "colab": {
          "base_uri": "https://localhost:8080/"
        },
        "id": "EXCrw3ByUhce",
        "outputId": "4b63cd74-15f4-45cc-b929-ae417f079afb"
      },
      "source": [
        "dict_2={\"name\":\"Shubham\",\"age\":19,\"country\":\"India\",\"name\":\"Shubham\",\"age\":19,\"country\":\"India\"}\n",
        "print(dict_2)"
      ],
      "execution_count": 21,
      "outputs": [
        {
          "output_type": "stream",
          "name": "stdout",
          "text": [
            "{'name': 'Shubham', 'age': 19, 'country': 'India'}\n"
          ]
        }
      ]
    }
  ]
}