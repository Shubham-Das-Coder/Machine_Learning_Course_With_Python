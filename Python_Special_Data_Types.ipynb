{
  "nbformat": 4,
  "nbformat_minor": 0,
  "metadata": {
    "colab": {
      "name": "Python_Special_Data_Types.ipynb",
      "provenance": [],
      "collapsed_sections": [],
      "authorship_tag": "ABX9TyPtSNZj7brm7Pp1Qi2N52wg",
      "include_colab_link": true
    },
    "kernelspec": {
      "name": "python3",
      "display_name": "Python 3"
    },
    "language_info": {
      "name": "python"
    }
  },
  "cells": [
    {
      "cell_type": "markdown",
      "metadata": {
        "id": "view-in-github",
        "colab_type": "text"
      },
      "source": [
        "<a href=\"https://colab.research.google.com/github/Shubham-Das-Coder/Machine_Learning_Course_With_Python/blob/main/Python_Special_Data_Types.ipynb\" target=\"_parent\"><img src=\"https://colab.research.google.com/assets/colab-badge.svg\" alt=\"Open In Colab\"/></a>"
      ]
    },
    {
      "cell_type": "markdown",
      "metadata": {
        "id": "An0cjStpLD25"
      },
      "source": [
        "#*Lists*"
      ]
    },
    {
      "cell_type": "code",
      "metadata": {
        "colab": {
          "base_uri": "https://localhost:8080/"
        },
        "id": "dPxtYfFYK5eX",
        "outputId": "917dd223-7714-4694-8e43-5690be61364f"
      },
      "source": [
        "my_list=[1,2,3,4,5]\n",
        "print(my_list)\n",
        "type(my_list)"
      ],
      "execution_count": 1,
      "outputs": [
        {
          "output_type": "stream",
          "name": "stdout",
          "text": [
            "[1, 2, 3, 4, 5]\n"
          ]
        },
        {
          "output_type": "execute_result",
          "data": {
            "text/plain": [
              "list"
            ]
          },
          "metadata": {},
          "execution_count": 1
        }
      ]
    },
    {
      "cell_type": "code",
      "metadata": {
        "colab": {
          "base_uri": "https://localhost:8080/"
        },
        "id": "NUMxlIhILNwU",
        "outputId": "fce29cb7-440e-4a4a-8326-e5ee51bec3da"
      },
      "source": [
        "my_list=[45,99.99,\"Shubham\",True]\n",
        "print(my_list)\n",
        "type(my_list)"
      ],
      "execution_count": 2,
      "outputs": [
        {
          "output_type": "stream",
          "name": "stdout",
          "text": [
            "[45, 99.99, 'Shubham', True]\n"
          ]
        },
        {
          "output_type": "execute_result",
          "data": {
            "text/plain": [
              "list"
            ]
          },
          "metadata": {},
          "execution_count": 2
        }
      ]
    },
    {
      "cell_type": "code",
      "metadata": {
        "colab": {
          "base_uri": "https://localhost:8080/"
        },
        "id": "dm7M3IfdLf6P",
        "outputId": "87331c48-2d1e-439b-b49d-31f0928818f1"
      },
      "source": [
        "my_list=[45,99.99,\"Shubham\",True]\n",
        "my_list.append(\"Python\")\n",
        "print(my_list)"
      ],
      "execution_count": 3,
      "outputs": [
        {
          "output_type": "stream",
          "name": "stdout",
          "text": [
            "[45, 99.99, 'Shubham', True, 'Python']\n"
          ]
        }
      ]
    },
    {
      "cell_type": "code",
      "metadata": {
        "colab": {
          "base_uri": "https://localhost:8080/"
        },
        "id": "cMyVlgFfLuZn",
        "outputId": "b971dd41-a8af-4458-f2f0-a31a705db5ad"
      },
      "source": [
        "print(my_list[1])\n",
        "print(my_list[4])\n",
        "print(my_list[2])\n",
        "print(my_list[3])"
      ],
      "execution_count": 4,
      "outputs": [
        {
          "output_type": "stream",
          "name": "stdout",
          "text": [
            "99.99\n",
            "Python\n",
            "Shubham\n",
            "True\n"
          ]
        }
      ]
    },
    {
      "cell_type": "code",
      "metadata": {
        "colab": {
          "base_uri": "https://localhost:8080/"
        },
        "id": "O1J2vZXGL6PY",
        "outputId": "4317e9cb-ea9e-444e-f06f-c30cf4ea785a"
      },
      "source": [
        "list_1=[1,1,2,2,3,3,4,4,5,5,6,6,7,7,8,8,9,9]\n",
        "print(list_1)"
      ],
      "execution_count": 5,
      "outputs": [
        {
          "output_type": "stream",
          "name": "stdout",
          "text": [
            "[1, 1, 2, 2, 3, 3, 4, 4, 5, 5, 6, 6, 7, 7, 8, 8, 9, 9]\n"
          ]
        }
      ]
    },
    {
      "cell_type": "code",
      "metadata": {
        "colab": {
          "base_uri": "https://localhost:8080/"
        },
        "id": "DvZmGL0LMDiB",
        "outputId": "1473e1c7-1506-4e13-d5fa-f96899279491"
      },
      "source": [
        "print(len(list_1))"
      ],
      "execution_count": 6,
      "outputs": [
        {
          "output_type": "stream",
          "name": "stdout",
          "text": [
            "18\n"
          ]
        }
      ]
    },
    {
      "cell_type": "code",
      "metadata": {
        "colab": {
          "base_uri": "https://localhost:8080/"
        },
        "id": "q8cvV4umMM9J",
        "outputId": "5e756efc-8622-48c8-f385-71004b7c6811"
      },
      "source": [
        "list_2=[]\n",
        "print(list_2)"
      ],
      "execution_count": 7,
      "outputs": [
        {
          "output_type": "stream",
          "name": "stdout",
          "text": [
            "[]\n"
          ]
        }
      ]
    },
    {
      "cell_type": "code",
      "metadata": {
        "colab": {
          "base_uri": "https://localhost:8080/"
        },
        "id": "NTVhyfMERgme",
        "outputId": "9bfc360c-8c8b-4ec5-8be5-d301a6184f24"
      },
      "source": [
        "list_2.append(50)\n",
        "print(list_2)"
      ],
      "execution_count": 8,
      "outputs": [
        {
          "output_type": "stream",
          "name": "stdout",
          "text": [
            "[50]\n"
          ]
        }
      ]
    },
    {
      "cell_type": "code",
      "metadata": {
        "colab": {
          "base_uri": "https://localhost:8080/"
        },
        "id": "HhxXp6SARmNz",
        "outputId": "8a2ceac7-04d2-4a70-f575-2e98e1f2fc2f"
      },
      "source": [
        "list_2=[45, 99.99, 'Shubham', True, 'Python']\n",
        "print(list_2)\n",
        "del list_2[4]\n",
        "print(list_2)"
      ],
      "execution_count": 9,
      "outputs": [
        {
          "output_type": "stream",
          "name": "stdout",
          "text": [
            "[45, 99.99, 'Shubham', True, 'Python']\n",
            "[45, 99.99, 'Shubham', True]\n"
          ]
        }
      ]
    },
    {
      "cell_type": "code",
      "metadata": {
        "colab": {
          "base_uri": "https://localhost:8080/"
        },
        "id": "OADMfet3R9B5",
        "outputId": "cf53797f-17af-4146-af53-9468adab420f"
      },
      "source": [
        "list_3=[1,3,5,7,9]\n",
        "list_4=[2,4,6,8]\n",
        "list_5=list_3 + list_4\n",
        "list_6=list_4 + list_3\n",
        "print(list_5)\n",
        "print(list_6)"
      ],
      "execution_count": 10,
      "outputs": [
        {
          "output_type": "stream",
          "name": "stdout",
          "text": [
            "[1, 3, 5, 7, 9, 2, 4, 6, 8]\n",
            "[2, 4, 6, 8, 1, 3, 5, 7, 9]\n"
          ]
        }
      ]
    },
    {
      "cell_type": "markdown",
      "metadata": {
        "id": "vH_m9nrPSY13"
      },
      "source": [
        "#*Tuples*"
      ]
    },
    {
      "cell_type": "code",
      "metadata": {
        "colab": {
          "base_uri": "https://localhost:8080/"
        },
        "id": "cNtJfwxaSWE8",
        "outputId": "0754525f-ffd3-454f-ef66-6b1045c95347"
      },
      "source": [
        "tuple_1=(1,2,3,4,5)\n",
        "print(tuple_1)\n",
        "type(tuple_1)"
      ],
      "execution_count": 11,
      "outputs": [
        {
          "output_type": "stream",
          "name": "stdout",
          "text": [
            "(1, 2, 3, 4, 5)\n"
          ]
        },
        {
          "output_type": "execute_result",
          "data": {
            "text/plain": [
              "tuple"
            ]
          },
          "metadata": {},
          "execution_count": 11
        }
      ]
    },
    {
      "cell_type": "code",
      "metadata": {
        "colab": {
          "base_uri": "https://localhost:8080/"
        },
        "id": "1IRqJ6WuSlst",
        "outputId": "9646fd42-6c2d-4854-86da-afc47fcc9580"
      },
      "source": [
        "tuple_2=(99,\"Machine Learning\",False)\n",
        "print(tuple_2)"
      ],
      "execution_count": 12,
      "outputs": [
        {
          "output_type": "stream",
          "name": "stdout",
          "text": [
            "(99, 'Machine Learning', False)\n"
          ]
        }
      ]
    },
    {
      "cell_type": "code",
      "metadata": {
        "colab": {
          "base_uri": "https://localhost:8080/"
        },
        "id": "20CT7JgvSyPE",
        "outputId": "33949459-2095-44eb-c3d0-1da4ad037631"
      },
      "source": [
        "my_list=[1,2,3,4,5]\n",
        "print(my_list)\n",
        "\n",
        "my_tuple=tuple(my_list)\n",
        "print(my_tuple)"
      ],
      "execution_count": 13,
      "outputs": [
        {
          "output_type": "stream",
          "name": "stdout",
          "text": [
            "[1, 2, 3, 4, 5]\n",
            "(1, 2, 3, 4, 5)\n"
          ]
        }
      ]
    },
    {
      "cell_type": "code",
      "metadata": {
        "colab": {
          "base_uri": "https://localhost:8080/"
        },
        "id": "EUjd8KoGS_2X",
        "outputId": "279e741d-b581-424d-c79e-81462aec55d4"
      },
      "source": [
        "print(my_tuple[0])\n",
        "print(my_tuple[2])\n",
        "print(my_tuple[4])"
      ],
      "execution_count": 14,
      "outputs": [
        {
          "output_type": "stream",
          "name": "stdout",
          "text": [
            "1\n",
            "3\n",
            "5\n"
          ]
        }
      ]
    },
    {
      "cell_type": "code",
      "metadata": {
        "colab": {
          "base_uri": "https://localhost:8080/"
        },
        "id": "VEbiBCU3TO6G",
        "outputId": "cdcc1b6c-4444-4ccd-cb9f-6ed2678dea38"
      },
      "source": [
        "print(len(my_tuple))"
      ],
      "execution_count": 15,
      "outputs": [
        {
          "output_type": "stream",
          "name": "stdout",
          "text": [
            "5\n"
          ]
        }
      ]
    },
    {
      "cell_type": "markdown",
      "metadata": {
        "id": "_NUKlZQFTcBp"
      },
      "source": [
        "#*Set*"
      ]
    },
    {
      "cell_type": "code",
      "metadata": {
        "colab": {
          "base_uri": "https://localhost:8080/"
        },
        "id": "RZSKW71TTaNf",
        "outputId": "c495f7b2-010c-45c0-bafd-ba749c01e742"
      },
      "source": [
        "my_set={1,2,3,4,5}\n",
        "print(my_set)\n",
        "type(my_set)"
      ],
      "execution_count": 16,
      "outputs": [
        {
          "output_type": "stream",
          "name": "stdout",
          "text": [
            "{1, 2, 3, 4, 5}\n"
          ]
        },
        {
          "output_type": "execute_result",
          "data": {
            "text/plain": [
              "set"
            ]
          },
          "metadata": {},
          "execution_count": 16
        }
      ]
    },
    {
      "cell_type": "code",
      "metadata": {
        "colab": {
          "base_uri": "https://localhost:8080/"
        },
        "id": "L9D-xk-5TkH-",
        "outputId": "40ae011a-ff65-40d6-94e1-bd60ebc3733a"
      },
      "source": [
        "lst=[1,3,5,7,9]\n",
        "x=set(lst)\n",
        "print(x)"
      ],
      "execution_count": 17,
      "outputs": [
        {
          "output_type": "stream",
          "name": "stdout",
          "text": [
            "{1, 3, 5, 7, 9}\n"
          ]
        }
      ]
    },
    {
      "cell_type": "code",
      "metadata": {
        "colab": {
          "base_uri": "https://localhost:8080/"
        },
        "id": "tqh2OQ-oT03t",
        "outputId": "e97afca4-0b81-4229-9372-7c462a611871"
      },
      "source": [
        "set_3={1,2,3,4,5,6,7,8,9,1,2,3,4,5,6,7,8,9}\n",
        "print(set_3)"
      ],
      "execution_count": 18,
      "outputs": [
        {
          "output_type": "stream",
          "name": "stdout",
          "text": [
            "{1, 2, 3, 4, 5, 6, 7, 8, 9}\n"
          ]
        }
      ]
    },
    {
      "cell_type": "markdown",
      "metadata": {
        "id": "jm-Ja7XcUBlQ"
      },
      "source": [
        "#*Dictionary*"
      ]
    },
    {
      "cell_type": "code",
      "metadata": {
        "colab": {
          "base_uri": "https://localhost:8080/"
        },
        "id": "xmkNAcVBT_L2",
        "outputId": "57ef1e51-b331-4d4e-8393-194a848b6bb2"
      },
      "source": [
        "my_dict={\"name\":\"Shubham\",\"age\":19,\"country\":\"India\"}\n",
        "print(my_dict)\n",
        "type(my_dict)"
      ],
      "execution_count": 19,
      "outputs": [
        {
          "output_type": "stream",
          "name": "stdout",
          "text": [
            "{'name': 'Shubham', 'age': 19, 'country': 'India'}\n"
          ]
        },
        {
          "output_type": "execute_result",
          "data": {
            "text/plain": [
              "dict"
            ]
          },
          "metadata": {},
          "execution_count": 19
        }
      ]
    },
    {
      "cell_type": "code",
      "metadata": {
        "colab": {
          "base_uri": "https://localhost:8080/"
        },
        "id": "EQAARCUbUXxm",
        "outputId": "13ee6384-47d0-4399-b0c4-d43e06a431ac"
      },
      "source": [
        "print(my_dict[\"name\"])\n",
        "print(my_dict[\"age\"])\n",
        "print(my_dict[\"country\"])"
      ],
      "execution_count": 20,
      "outputs": [
        {
          "output_type": "stream",
          "name": "stdout",
          "text": [
            "Shubham\n",
            "19\n",
            "India\n"
          ]
        }
      ]
    },
    {
      "cell_type": "code",
      "metadata": {
        "colab": {
          "base_uri": "https://localhost:8080/"
        },
        "id": "EXCrw3ByUhce",
        "outputId": "d2d14ffd-709a-48a2-90fd-7bfea512236e"
      },
      "source": [
        "dict_2={\"name\":\"Shubham\",\"age\":19,\"country\":\"India\",\"name\":\"Shubham\",\"age\":19,\"country\":\"India\"}\n",
        "print(dict_2)"
      ],
      "execution_count": 21,
      "outputs": [
        {
          "output_type": "stream",
          "name": "stdout",
          "text": [
            "{'name': 'Shubham', 'age': 19, 'country': 'India'}\n"
          ]
        }
      ]
    }
  ]
}