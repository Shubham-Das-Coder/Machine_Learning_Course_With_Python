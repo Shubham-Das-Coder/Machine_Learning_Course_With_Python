{
  "nbformat": 4,
  "nbformat_minor": 0,
  "metadata": {
    "colab": {
      "name": "Python_Basics.ipynb",
      "provenance": [],
      "collapsed_sections": [],
      "authorship_tag": "ABX9TyN6aTnSbp1rKFmRbSirOS2N",
      "include_colab_link": true
    },
    "kernelspec": {
      "name": "python3",
      "display_name": "Python 3"
    },
    "language_info": {
      "name": "python"
    }
  },
  "cells": [
    {
      "cell_type": "markdown",
      "metadata": {
        "id": "view-in-github",
        "colab_type": "text"
      },
      "source": [
        "<a href=\"https://colab.research.google.com/github/Shubham-Das-Coder/Machine_Learning_Course_With_Python/blob/main/Python_Basics.ipynb\" target=\"_parent\"><img src=\"https://colab.research.google.com/assets/colab-badge.svg\" alt=\"Open In Colab\"/></a>"
      ]
    },
    {
      "cell_type": "markdown",
      "metadata": {
        "id": "9QMl2pknvRtF"
      },
      "source": [
        "#***Print Function***"
      ]
    },
    {
      "cell_type": "code",
      "metadata": {
        "colab": {
          "base_uri": "https://localhost:8080/"
        },
        "id": "o5tVtEyalxaa",
        "outputId": "8ef0c72b-849d-4eb4-af75-510dde892ae4"
      },
      "source": [
        "print(\"Hello World\")"
      ],
      "execution_count": 1,
      "outputs": [
        {
          "output_type": "stream",
          "name": "stdout",
          "text": [
            "Hello World\n"
          ]
        }
      ]
    },
    {
      "cell_type": "code",
      "metadata": {
        "colab": {
          "base_uri": "https://localhost:8080/"
        },
        "id": "YBPXieW-veI8",
        "outputId": "b8192c4d-28bf-47d5-fb71-7058aad144ae"
      },
      "source": [
        "print(\"Hello\"+\" World\")"
      ],
      "execution_count": 2,
      "outputs": [
        {
          "output_type": "stream",
          "name": "stdout",
          "text": [
            "Hello World\n"
          ]
        }
      ]
    },
    {
      "cell_type": "code",
      "metadata": {
        "colab": {
          "base_uri": "https://localhost:8080/"
        },
        "id": "zlRni4f6vpos",
        "outputId": "c6c14ad1-d46c-4ed2-e145-5bef459650a1"
      },
      "source": [
        "print(123456789)"
      ],
      "execution_count": 3,
      "outputs": [
        {
          "output_type": "stream",
          "name": "stdout",
          "text": [
            "123456789\n"
          ]
        }
      ]
    },
    {
      "cell_type": "code",
      "metadata": {
        "colab": {
          "base_uri": "https://localhost:8080/"
        },
        "id": "Gu7s4CIdvxMT",
        "outputId": "c1a4cc5f-bf5a-42aa-d9e9-be5ff5a860bc"
      },
      "source": [
        "print(4+6)"
      ],
      "execution_count": 4,
      "outputs": [
        {
          "output_type": "stream",
          "name": "stdout",
          "text": [
            "10\n"
          ]
        }
      ]
    },
    {
      "cell_type": "markdown",
      "metadata": {
        "id": "JWTBT0viwGQW"
      },
      "source": [
        "#***Basic Data Types***"
      ]
    },
    {
      "cell_type": "code",
      "metadata": {
        "colab": {
          "base_uri": "https://localhost:8080/"
        },
        "id": "tRj84VyYwQCT",
        "outputId": "555d4fc6-4a9b-4e1b-ccc6-280939c71d50"
      },
      "source": [
        "type(1)"
      ],
      "execution_count": 5,
      "outputs": [
        {
          "output_type": "execute_result",
          "data": {
            "text/plain": [
              "int"
            ]
          },
          "metadata": {},
          "execution_count": 5
        }
      ]
    },
    {
      "cell_type": "code",
      "metadata": {
        "colab": {
          "base_uri": "https://localhost:8080/"
        },
        "id": "VdbzEKUTwVIe",
        "outputId": "225cbfdf-2937-4153-f7d5-80fb478695d0"
      },
      "source": [
        "type(1.0)"
      ],
      "execution_count": 6,
      "outputs": [
        {
          "output_type": "execute_result",
          "data": {
            "text/plain": [
              "float"
            ]
          },
          "metadata": {},
          "execution_count": 6
        }
      ]
    },
    {
      "cell_type": "code",
      "metadata": {
        "colab": {
          "base_uri": "https://localhost:8080/"
        },
        "id": "4h9r2lPqwYh5",
        "outputId": "71952076-268c-4aeb-b215-e9bbc91dd359"
      },
      "source": [
        "type(\"Hello World\")"
      ],
      "execution_count": 7,
      "outputs": [
        {
          "output_type": "execute_result",
          "data": {
            "text/plain": [
              "str"
            ]
          },
          "metadata": {},
          "execution_count": 7
        }
      ]
    },
    {
      "cell_type": "markdown",
      "metadata": {
        "id": "BaWn7IVowkXa"
      },
      "source": [
        "#***Constants And Variables***"
      ]
    },
    {
      "cell_type": "code",
      "metadata": {
        "colab": {
          "base_uri": "https://localhost:8080/"
        },
        "id": "TtuWGnGGwb3g",
        "outputId": "2978694c-3e10-4ec2-b7ee-562f9d5a7063"
      },
      "source": [
        "god_of_cricket=\"Sachin\"\n",
        "print(god_of_cricket)"
      ],
      "execution_count": 8,
      "outputs": [
        {
          "output_type": "stream",
          "name": "stdout",
          "text": [
            "Sachin\n"
          ]
        }
      ]
    },
    {
      "cell_type": "code",
      "metadata": {
        "colab": {
          "base_uri": "https://localhost:8080/"
        },
        "id": "UEgM18vVw3OD",
        "outputId": "2a30f1cd-abd2-4235-fc68-b01b836f9e96"
      },
      "source": [
        "god_of_cricket=\"Dhoni\"\n",
        "print(god_of_cricket)"
      ],
      "execution_count": 9,
      "outputs": [
        {
          "output_type": "stream",
          "name": "stdout",
          "text": [
            "Dhoni\n"
          ]
        }
      ]
    },
    {
      "cell_type": "code",
      "metadata": {
        "colab": {
          "base_uri": "https://localhost:8080/"
        },
        "id": "w_qoZ21ew7L0",
        "outputId": "bc0047d2-086e-4173-f3c5-ed4dead0b27e"
      },
      "source": [
        "car1,car2,car3=\"Ferrari\",\"Porsche\",\"Bentley\"\n",
        "print(car1)\n",
        "print(car2)\n",
        "print(car3)"
      ],
      "execution_count": 10,
      "outputs": [
        {
          "output_type": "stream",
          "name": "stdout",
          "text": [
            "Ferrari\n",
            "Porsche\n",
            "Bentley\n"
          ]
        }
      ]
    },
    {
      "cell_type": "code",
      "metadata": {
        "colab": {
          "base_uri": "https://localhost:8080/"
        },
        "id": "UXtcxEcVxVxD",
        "outputId": "4ed6c079-c7ee-4e37-b5ae-c69091998813"
      },
      "source": [
        "x=y=z=3\n",
        "print(x)\n",
        "print(y)\n",
        "print(z)"
      ],
      "execution_count": 11,
      "outputs": [
        {
          "output_type": "stream",
          "name": "stdout",
          "text": [
            "3\n",
            "3\n",
            "3\n"
          ]
        }
      ]
    },
    {
      "cell_type": "markdown",
      "metadata": {
        "id": "nEsL-K7DxsIf"
      },
      "source": [
        "#***Input Function***"
      ]
    },
    {
      "cell_type": "code",
      "metadata": {
        "id": "puAlcCY1xgcU",
        "colab": {
          "base_uri": "https://localhost:8080/"
        },
        "outputId": "096b3b70-3cfd-4c5e-efb2-a8072625e2e7"
      },
      "source": [
        "num1=input(\"Please Enter The First Number :\")\n",
        "num2=input(\"Please Enter The Second Number :\")"
      ],
      "execution_count": 12,
      "outputs": [
        {
          "name": "stdout",
          "output_type": "stream",
          "text": [
            "Please Enter The First Number :45\n",
            "Please Enter The Second Number :99\n"
          ]
        }
      ]
    },
    {
      "cell_type": "code",
      "metadata": {
        "colab": {
          "base_uri": "https://localhost:8080/"
        },
        "id": "cl2MIrJ5R2zV",
        "outputId": "c2f82e0d-2444-4db9-ad81-20283e1916ad"
      },
      "source": [
        "sum=num1+num2\n",
        "print(sum)"
      ],
      "execution_count": 13,
      "outputs": [
        {
          "output_type": "stream",
          "name": "stdout",
          "text": [
            "4599\n"
          ]
        }
      ]
    },
    {
      "cell_type": "code",
      "metadata": {
        "colab": {
          "base_uri": "https://localhost:8080/"
        },
        "id": "A8LRn-RfR_eV",
        "outputId": "46e3b66a-98a0-4e6b-e7df-1ab08b7fced1"
      },
      "source": [
        "num1=int(input(\"Please Enter The First Number :\"))\n",
        "num2=int(input(\"Please Enter The Second Number :\"))\n",
        "sum=num1+num2\n",
        "print(sum)"
      ],
      "execution_count": 14,
      "outputs": [
        {
          "output_type": "stream",
          "name": "stdout",
          "text": [
            "Please Enter The First Number :45\n",
            "Please Enter The Second Number :99\n",
            "144\n"
          ]
        }
      ]
    },
    {
      "cell_type": "code",
      "metadata": {
        "colab": {
          "base_uri": "https://localhost:8080/"
        },
        "id": "3WTF5g7xSSTh",
        "outputId": "6d8648db-e197-4419-dc7b-23a76677912d"
      },
      "source": [
        "num=7\n",
        "float_num=float(num)\n",
        "print(float_num)"
      ],
      "execution_count": 15,
      "outputs": [
        {
          "output_type": "stream",
          "name": "stdout",
          "text": [
            "7.0\n"
          ]
        }
      ]
    },
    {
      "cell_type": "code",
      "metadata": {
        "colab": {
          "base_uri": "https://localhost:8080/"
        },
        "id": "iXG3c1FuSo_d",
        "outputId": "e9db07bf-f499-4db8-872d-02be30c908f1"
      },
      "source": [
        "num=89\n",
        "print(float(num))"
      ],
      "execution_count": 16,
      "outputs": [
        {
          "output_type": "stream",
          "name": "stdout",
          "text": [
            "89.0\n"
          ]
        }
      ]
    }
  ]
}