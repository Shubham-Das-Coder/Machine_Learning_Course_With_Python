{
  "nbformat": 4,
  "nbformat_minor": 0,
  "metadata": {
    "colab": {
      "name": "Python_Basics.ipynb",
      "provenance": [],
      "collapsed_sections": [],
      "authorship_tag": "ABX9TyNF5tsAmlhDmAOfSfMhkoOk",
      "include_colab_link": true
    },
    "kernelspec": {
      "name": "python3",
      "display_name": "Python 3"
    },
    "language_info": {
      "name": "python"
    }
  },
  "cells": [
    {
      "cell_type": "markdown",
      "metadata": {
        "id": "view-in-github",
        "colab_type": "text"
      },
      "source": [
        "<a href=\"https://colab.research.google.com/github/Shubham-Das-Coder/Machine_Learning_Course_With_Python/blob/main/Python_Basics.ipynb\" target=\"_parent\"><img src=\"https://colab.research.google.com/assets/colab-badge.svg\" alt=\"Open In Colab\"/></a>"
      ]
    },
    {
      "cell_type": "markdown",
      "metadata": {
        "id": "9QMl2pknvRtF"
      },
      "source": [
        "#*Print Function*"
      ]
    },
    {
      "cell_type": "code",
      "metadata": {
        "colab": {
          "base_uri": "https://localhost:8080/"
        },
        "id": "o5tVtEyalxaa",
        "outputId": "cc6f5065-4a78-4f01-8e28-2a8ec517be22"
      },
      "source": [
        "print(\"Hello World\")"
      ],
      "execution_count": 1,
      "outputs": [
        {
          "output_type": "stream",
          "name": "stdout",
          "text": [
            "Hello World\n"
          ]
        }
      ]
    },
    {
      "cell_type": "code",
      "metadata": {
        "colab": {
          "base_uri": "https://localhost:8080/"
        },
        "id": "YBPXieW-veI8",
        "outputId": "dcd3f7e0-64ee-44aa-9ee5-83418e412a48"
      },
      "source": [
        "print(\"Hello\"+\" World\")"
      ],
      "execution_count": 2,
      "outputs": [
        {
          "output_type": "stream",
          "name": "stdout",
          "text": [
            "Hello World\n"
          ]
        }
      ]
    },
    {
      "cell_type": "code",
      "metadata": {
        "colab": {
          "base_uri": "https://localhost:8080/"
        },
        "id": "zlRni4f6vpos",
        "outputId": "9cdddf53-653a-4690-c2b2-0b78051078d7"
      },
      "source": [
        "print(123456789)"
      ],
      "execution_count": 3,
      "outputs": [
        {
          "output_type": "stream",
          "name": "stdout",
          "text": [
            "123456789\n"
          ]
        }
      ]
    },
    {
      "cell_type": "code",
      "metadata": {
        "colab": {
          "base_uri": "https://localhost:8080/"
        },
        "id": "Gu7s4CIdvxMT",
        "outputId": "c205763f-2def-4c5e-c8dd-00535978fa0c"
      },
      "source": [
        "print(4+6)"
      ],
      "execution_count": 4,
      "outputs": [
        {
          "output_type": "stream",
          "name": "stdout",
          "text": [
            "10\n"
          ]
        }
      ]
    },
    {
      "cell_type": "markdown",
      "metadata": {
        "id": "JWTBT0viwGQW"
      },
      "source": [
        "#*Basic Data Types*"
      ]
    },
    {
      "cell_type": "code",
      "metadata": {
        "colab": {
          "base_uri": "https://localhost:8080/"
        },
        "id": "tRj84VyYwQCT",
        "outputId": "b8c3e4e0-f1e6-463c-faef-f51b855eb877"
      },
      "source": [
        "type(1)"
      ],
      "execution_count": 5,
      "outputs": [
        {
          "output_type": "execute_result",
          "data": {
            "text/plain": [
              "int"
            ]
          },
          "metadata": {},
          "execution_count": 5
        }
      ]
    },
    {
      "cell_type": "code",
      "metadata": {
        "colab": {
          "base_uri": "https://localhost:8080/"
        },
        "id": "VdbzEKUTwVIe",
        "outputId": "90b69b70-9010-48b6-bb48-ef4974569859"
      },
      "source": [
        "type(1.0)"
      ],
      "execution_count": 6,
      "outputs": [
        {
          "output_type": "execute_result",
          "data": {
            "text/plain": [
              "float"
            ]
          },
          "metadata": {},
          "execution_count": 6
        }
      ]
    },
    {
      "cell_type": "code",
      "metadata": {
        "colab": {
          "base_uri": "https://localhost:8080/"
        },
        "id": "4h9r2lPqwYh5",
        "outputId": "296e5e82-c1b7-4e2c-bd47-8cf7bde19ef3"
      },
      "source": [
        "type(\"Hello World\")"
      ],
      "execution_count": 7,
      "outputs": [
        {
          "output_type": "execute_result",
          "data": {
            "text/plain": [
              "str"
            ]
          },
          "metadata": {},
          "execution_count": 7
        }
      ]
    },
    {
      "cell_type": "markdown",
      "metadata": {
        "id": "BaWn7IVowkXa"
      },
      "source": [
        "#*Constants And Variables*"
      ]
    },
    {
      "cell_type": "code",
      "metadata": {
        "colab": {
          "base_uri": "https://localhost:8080/"
        },
        "id": "TtuWGnGGwb3g",
        "outputId": "79026191-7fcf-460e-e882-3fa6ee6c9a02"
      },
      "source": [
        "god_of_cricket=\"Sachin\"\n",
        "print(god_of_cricket)"
      ],
      "execution_count": 8,
      "outputs": [
        {
          "output_type": "stream",
          "name": "stdout",
          "text": [
            "Sachin\n"
          ]
        }
      ]
    },
    {
      "cell_type": "code",
      "metadata": {
        "colab": {
          "base_uri": "https://localhost:8080/"
        },
        "id": "UEgM18vVw3OD",
        "outputId": "852024a0-ebf9-4eb8-d145-d0a29ce6cf0b"
      },
      "source": [
        "god_of_cricket=\"Dhoni\"\n",
        "print(god_of_cricket)"
      ],
      "execution_count": 9,
      "outputs": [
        {
          "output_type": "stream",
          "name": "stdout",
          "text": [
            "Dhoni\n"
          ]
        }
      ]
    },
    {
      "cell_type": "code",
      "metadata": {
        "colab": {
          "base_uri": "https://localhost:8080/"
        },
        "id": "w_qoZ21ew7L0",
        "outputId": "eca404a2-a3e7-4d86-8f27-b2403bf9c71a"
      },
      "source": [
        "car1,car2,car3=\"Ferrari\",\"Porsche\",\"Bentley\"\n",
        "print(car1)\n",
        "print(car2)\n",
        "print(car3)"
      ],
      "execution_count": 10,
      "outputs": [
        {
          "output_type": "stream",
          "name": "stdout",
          "text": [
            "Ferrari\n",
            "Porsche\n",
            "Bentley\n"
          ]
        }
      ]
    },
    {
      "cell_type": "code",
      "metadata": {
        "colab": {
          "base_uri": "https://localhost:8080/"
        },
        "id": "UXtcxEcVxVxD",
        "outputId": "5ea48638-f7d4-4cbe-981a-b9de1ca28dd1"
      },
      "source": [
        "x=y=z=3\n",
        "print(x)\n",
        "print(y)\n",
        "print(z)"
      ],
      "execution_count": 11,
      "outputs": [
        {
          "output_type": "stream",
          "name": "stdout",
          "text": [
            "3\n",
            "3\n",
            "3\n"
          ]
        }
      ]
    },
    {
      "cell_type": "markdown",
      "metadata": {
        "id": "nEsL-K7DxsIf"
      },
      "source": [
        "#*Input Function*"
      ]
    },
    {
      "cell_type": "code",
      "metadata": {
        "id": "puAlcCY1xgcU"
      },
      "source": [
        "num1=input(\"Please Enter The First Number :\")\n",
        "num2=input(\"Please Enter The Second Number :\")"
      ],
      "execution_count": null,
      "outputs": []
    },
    {
      "cell_type": "code",
      "metadata": {
        "id": "cl2MIrJ5R2zV"
      },
      "source": [
        "sum=num1+num2\n",
        "print(sum)"
      ],
      "execution_count": null,
      "outputs": []
    },
    {
      "cell_type": "code",
      "metadata": {
        "id": "A8LRn-RfR_eV"
      },
      "source": [
        "num1=int(input(\"Please Enter The First Number :\"))\n",
        "num2=int(input(\"Please Enter The Second Number :\"))\n",
        "sum=num1+num2\n",
        "print(sum)"
      ],
      "execution_count": null,
      "outputs": []
    },
    {
      "cell_type": "code",
      "metadata": {
        "id": "3WTF5g7xSSTh"
      },
      "source": [
        "num=7\n",
        "float_num=float(num)\n",
        "print(float_num)"
      ],
      "execution_count": null,
      "outputs": []
    },
    {
      "cell_type": "code",
      "metadata": {
        "id": "iXG3c1FuSo_d"
      },
      "source": [
        "num=89\n",
        "print(float(num))"
      ],
      "execution_count": null,
      "outputs": []
    },
    {
      "cell_type": "code",
      "metadata": {
        "id": "ps3RT2EQSv3G"
      },
      "source": [
        ""
      ],
      "execution_count": null,
      "outputs": []
    }
  ]
}