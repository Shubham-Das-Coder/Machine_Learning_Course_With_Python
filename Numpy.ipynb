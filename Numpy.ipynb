{
  "nbformat": 4,
  "nbformat_minor": 0,
  "metadata": {
    "colab": {
      "name": "Numpy.ipynb",
      "provenance": [],
      "collapsed_sections": [],
      "authorship_tag": "ABX9TyO64dD39DwDOhLSGWxajzS2",
      "include_colab_link": true
    },
    "kernelspec": {
      "name": "python3",
      "display_name": "Python 3"
    },
    "language_info": {
      "name": "python"
    }
  },
  "cells": [
    {
      "cell_type": "markdown",
      "metadata": {
        "id": "view-in-github",
        "colab_type": "text"
      },
      "source": [
        "<a href=\"https://colab.research.google.com/github/Shubham-Das-Coder/Machine_Learning_Course_With_Python/blob/main/Numpy.ipynb\" target=\"_parent\"><img src=\"https://colab.research.google.com/assets/colab-badge.svg\" alt=\"Open In Colab\"/></a>"
      ]
    },
    {
      "cell_type": "markdown",
      "source": [
        "#***Importing Library***"
      ],
      "metadata": {
        "id": "cb4EediDwrHn"
      }
    },
    {
      "cell_type": "code",
      "metadata": {
        "id": "K8FpDCoNYEDN"
      },
      "source": [
        "import numpy as np"
      ],
      "execution_count": 1,
      "outputs": []
    },
    {
      "cell_type": "markdown",
      "metadata": {
        "id": "ksZnty-EYc79"
      },
      "source": [
        "#***List Vs Numpy - Time Taken***"
      ]
    },
    {
      "cell_type": "code",
      "metadata": {
        "id": "HGfwp1LCYJgt"
      },
      "source": [
        "from time import process_time"
      ],
      "execution_count": 2,
      "outputs": []
    },
    {
      "cell_type": "markdown",
      "metadata": {
        "id": "v3CB-YQRYp1g"
      },
      "source": [
        "#***Time Taken By A List***"
      ]
    },
    {
      "cell_type": "code",
      "metadata": {
        "colab": {
          "base_uri": "https://localhost:8080/"
        },
        "id": "THdpUK47Ymuz",
        "outputId": "b8a4930d-0f09-4130-8f64-5904b582d216"
      },
      "source": [
        "python_list=[i for i in range(10000)]\n",
        "\n",
        "start_time=process_time()\n",
        "\n",
        "python_list=[i+5 for i in python_list]\n",
        "\n",
        "end_time=process_time()\n",
        "\n",
        "print(end_time-start_time)"
      ],
      "execution_count": 3,
      "outputs": [
        {
          "output_type": "stream",
          "name": "stdout",
          "text": [
            "0.001596702000000061\n"
          ]
        }
      ]
    },
    {
      "cell_type": "code",
      "metadata": {
        "colab": {
          "base_uri": "https://localhost:8080/"
        },
        "id": "WCdYmTokZNvk",
        "outputId": "aa3ef2b6-70d5-4d06-e114-087b14e1b4ff"
      },
      "source": [
        "np_array=np.array([i for i in range(10000)])\n",
        "\n",
        "start_time=process_time()\n",
        "\n",
        "np_array+=5\n",
        "\n",
        "end_time=process_time()\n",
        "\n",
        "print(end_time-start_time)"
      ],
      "execution_count": 4,
      "outputs": [
        {
          "output_type": "stream",
          "name": "stdout",
          "text": [
            "0.0002650179999998947\n"
          ]
        }
      ]
    },
    {
      "cell_type": "markdown",
      "metadata": {
        "id": "SxElLppahEXg"
      },
      "source": [
        "#***Numpy Arrays***"
      ]
    },
    {
      "cell_type": "code",
      "metadata": {
        "colab": {
          "base_uri": "https://localhost:8080/"
        },
        "id": "WSDR2ksfZqmI",
        "outputId": "8b3d009f-ec04-421d-c073-ef9e6ff5fd60"
      },
      "source": [
        "list1=[1,2,3,4,5]\n",
        "print(list1)\n",
        "type(list1)"
      ],
      "execution_count": 5,
      "outputs": [
        {
          "output_type": "stream",
          "name": "stdout",
          "text": [
            "[1, 2, 3, 4, 5]\n"
          ]
        },
        {
          "output_type": "execute_result",
          "data": {
            "text/plain": [
              "list"
            ]
          },
          "metadata": {},
          "execution_count": 5
        }
      ]
    },
    {
      "cell_type": "code",
      "metadata": {
        "colab": {
          "base_uri": "https://localhost:8080/"
        },
        "id": "W-W0F5NWhRZt",
        "outputId": "c7608bc4-acae-49a4-cee3-253972e52bdf"
      },
      "source": [
        "np_array=np.array([1,2,3,4,5])\n",
        "print(np_array)\n",
        "type(np_array)"
      ],
      "execution_count": 6,
      "outputs": [
        {
          "output_type": "stream",
          "name": "stdout",
          "text": [
            "[1 2 3 4 5]\n"
          ]
        },
        {
          "output_type": "execute_result",
          "data": {
            "text/plain": [
              "numpy.ndarray"
            ]
          },
          "metadata": {},
          "execution_count": 6
        }
      ]
    },
    {
      "cell_type": "code",
      "metadata": {
        "colab": {
          "base_uri": "https://localhost:8080/"
        },
        "id": "-7pnv-pkhbjb",
        "outputId": "87fb541a-2055-44ef-ae6a-f6d2cf408c9f"
      },
      "source": [
        "a=np.array([1,2,3,4])\n",
        "print(a)"
      ],
      "execution_count": 7,
      "outputs": [
        {
          "output_type": "stream",
          "name": "stdout",
          "text": [
            "[1 2 3 4]\n"
          ]
        }
      ]
    },
    {
      "cell_type": "code",
      "metadata": {
        "colab": {
          "base_uri": "https://localhost:8080/"
        },
        "id": "0EGN2LT6hlrc",
        "outputId": "5f31e1ea-be8b-4735-b4e5-5c64794d0056"
      },
      "source": [
        "a.shape"
      ],
      "execution_count": 8,
      "outputs": [
        {
          "output_type": "execute_result",
          "data": {
            "text/plain": [
              "(4,)"
            ]
          },
          "metadata": {},
          "execution_count": 8
        }
      ]
    },
    {
      "cell_type": "code",
      "metadata": {
        "colab": {
          "base_uri": "https://localhost:8080/"
        },
        "id": "WGKqxsmUhpb8",
        "outputId": "bdb5b671-d3cd-41e6-f509-f9d6e0c67164"
      },
      "source": [
        "b=np.array([(1,2,3,4),(5,6,7,8)])\n",
        "print(b)"
      ],
      "execution_count": 9,
      "outputs": [
        {
          "output_type": "stream",
          "name": "stdout",
          "text": [
            "[[1 2 3 4]\n",
            " [5 6 7 8]]\n"
          ]
        }
      ]
    },
    {
      "cell_type": "code",
      "metadata": {
        "colab": {
          "base_uri": "https://localhost:8080/"
        },
        "id": "dqDSd_w2h1h8",
        "outputId": "cc81485a-04c8-4099-a2d1-925ae09cbbf4"
      },
      "source": [
        "b.shape"
      ],
      "execution_count": 10,
      "outputs": [
        {
          "output_type": "execute_result",
          "data": {
            "text/plain": [
              "(2, 4)"
            ]
          },
          "metadata": {},
          "execution_count": 10
        }
      ]
    },
    {
      "cell_type": "code",
      "metadata": {
        "colab": {
          "base_uri": "https://localhost:8080/"
        },
        "id": "ayujex0QiCjr",
        "outputId": "ce3c32db-4ba5-42ba-8171-007acca3ae5c"
      },
      "source": [
        "c=np.array([(1,2,3,4),(5,6,7,8)],dtype=float)\n",
        "print(c)"
      ],
      "execution_count": 11,
      "outputs": [
        {
          "output_type": "stream",
          "name": "stdout",
          "text": [
            "[[1. 2. 3. 4.]\n",
            " [5. 6. 7. 8.]]\n"
          ]
        }
      ]
    },
    {
      "cell_type": "markdown",
      "metadata": {
        "id": "41fGdvT2iXVB"
      },
      "source": [
        "#***Initial Placeholders In Numpy Arrays***"
      ]
    },
    {
      "cell_type": "code",
      "metadata": {
        "colab": {
          "base_uri": "https://localhost:8080/"
        },
        "id": "6-4FJIuuicsu",
        "outputId": "0afd5580-8284-4e48-b98d-8b5fe37da029"
      },
      "source": [
        "x=np.zeros((4,5))\n",
        "print(x)"
      ],
      "execution_count": 12,
      "outputs": [
        {
          "output_type": "stream",
          "name": "stdout",
          "text": [
            "[[0. 0. 0. 0. 0.]\n",
            " [0. 0. 0. 0. 0.]\n",
            " [0. 0. 0. 0. 0.]\n",
            " [0. 0. 0. 0. 0.]]\n"
          ]
        }
      ]
    },
    {
      "cell_type": "code",
      "metadata": {
        "colab": {
          "base_uri": "https://localhost:8080/"
        },
        "id": "tv3lPP1hire1",
        "outputId": "c0e6132f-3d5c-40bf-aef5-586d6124679b"
      },
      "source": [
        "y=np.ones((3,3))\n",
        "print(y)"
      ],
      "execution_count": 13,
      "outputs": [
        {
          "output_type": "stream",
          "name": "stdout",
          "text": [
            "[[1. 1. 1.]\n",
            " [1. 1. 1.]\n",
            " [1. 1. 1.]]\n"
          ]
        }
      ]
    },
    {
      "cell_type": "code",
      "metadata": {
        "colab": {
          "base_uri": "https://localhost:8080/"
        },
        "id": "fWqN9MWniy-8",
        "outputId": "7a05eff7-10ad-4d77-fe98-09176a883cb2"
      },
      "source": [
        "z=np.full((5,4),5)\n",
        "print(z)"
      ],
      "execution_count": 14,
      "outputs": [
        {
          "output_type": "stream",
          "name": "stdout",
          "text": [
            "[[5 5 5 5]\n",
            " [5 5 5 5]\n",
            " [5 5 5 5]\n",
            " [5 5 5 5]\n",
            " [5 5 5 5]]\n"
          ]
        }
      ]
    },
    {
      "cell_type": "code",
      "metadata": {
        "colab": {
          "base_uri": "https://localhost:8080/"
        },
        "id": "R2i_Fp32i6oU",
        "outputId": "c6db7e40-fc9e-4ca3-db8a-315a82e265f2"
      },
      "source": [
        "a=np.eye(4)\n",
        "print(a)"
      ],
      "execution_count": 15,
      "outputs": [
        {
          "output_type": "stream",
          "name": "stdout",
          "text": [
            "[[1. 0. 0. 0.]\n",
            " [0. 1. 0. 0.]\n",
            " [0. 0. 1. 0.]\n",
            " [0. 0. 0. 1.]]\n"
          ]
        }
      ]
    },
    {
      "cell_type": "code",
      "metadata": {
        "colab": {
          "base_uri": "https://localhost:8080/"
        },
        "id": "SUnYHahHjGks",
        "outputId": "ab0294b0-401a-4899-e5f9-f13d0c4cb0a3"
      },
      "source": [
        "b=np.random.random((3,4))\n",
        "print(b)"
      ],
      "execution_count": 16,
      "outputs": [
        {
          "output_type": "stream",
          "name": "stdout",
          "text": [
            "[[0.48163303 0.5698089  0.60876792 0.46240238]\n",
            " [0.04889382 0.55542147 0.66562837 0.46969173]\n",
            " [0.71940142 0.59402352 0.89778889 0.809793  ]]\n"
          ]
        }
      ]
    },
    {
      "cell_type": "code",
      "metadata": {
        "colab": {
          "base_uri": "https://localhost:8080/"
        },
        "id": "adGywpmFjTss",
        "outputId": "4bd79ce7-47f9-49ac-818a-a96d00524b92"
      },
      "source": [
        "c=np.random.randint(10,100,(3,5))\n",
        "print(c)"
      ],
      "execution_count": 17,
      "outputs": [
        {
          "output_type": "stream",
          "name": "stdout",
          "text": [
            "[[38 56 17 60 62]\n",
            " [15 18 47 55 83]\n",
            " [94 90 74 61 27]]\n"
          ]
        }
      ]
    },
    {
      "cell_type": "code",
      "metadata": {
        "colab": {
          "base_uri": "https://localhost:8080/"
        },
        "id": "GWNsaNeHjihl",
        "outputId": "7404ffa1-cc85-4251-d848-c02db282faf2"
      },
      "source": [
        "d=np.linspace(10,30,5)\n",
        "print(d)"
      ],
      "execution_count": 18,
      "outputs": [
        {
          "output_type": "stream",
          "name": "stdout",
          "text": [
            "[10. 15. 20. 25. 30.]\n"
          ]
        }
      ]
    },
    {
      "cell_type": "code",
      "metadata": {
        "colab": {
          "base_uri": "https://localhost:8080/"
        },
        "id": "jWf85yo6jvz9",
        "outputId": "431d5c46-e0ab-4a21-f270-a7544bf004b7"
      },
      "source": [
        "e=np.arange(10,30,5)\n",
        "print(e)"
      ],
      "execution_count": 19,
      "outputs": [
        {
          "output_type": "stream",
          "name": "stdout",
          "text": [
            "[10 15 20 25]\n"
          ]
        }
      ]
    },
    {
      "cell_type": "code",
      "metadata": {
        "colab": {
          "base_uri": "https://localhost:8080/"
        },
        "id": "zQnhKXFNj7n-",
        "outputId": "e8bcb788-0afd-4a44-e630-171fa542b898"
      },
      "source": [
        "list2=[10,20,30,40,50]\n",
        "\n",
        "np_array=np.array(list2)\n",
        "print(np_array)\n",
        "type(np_array)"
      ],
      "execution_count": 20,
      "outputs": [
        {
          "output_type": "stream",
          "name": "stdout",
          "text": [
            "[10 20 30 40 50]\n"
          ]
        },
        {
          "output_type": "execute_result",
          "data": {
            "text/plain": [
              "numpy.ndarray"
            ]
          },
          "metadata": {},
          "execution_count": 20
        }
      ]
    },
    {
      "cell_type": "code",
      "metadata": {
        "colab": {
          "base_uri": "https://localhost:8080/"
        },
        "id": "Z3Ofhm0PqM0T",
        "outputId": "1042b8b3-0ab0-423a-d314-c951981f7aad"
      },
      "source": [
        "c=np.random.randint(10,90,(5,5))\n",
        "print(c)"
      ],
      "execution_count": 21,
      "outputs": [
        {
          "output_type": "stream",
          "name": "stdout",
          "text": [
            "[[12 44 44 50 30]\n",
            " [46 35 64 64 20]\n",
            " [29 29 66 17 36]\n",
            " [21 24 68 24 32]\n",
            " [70 84 57 76 78]]\n"
          ]
        }
      ]
    },
    {
      "cell_type": "code",
      "metadata": {
        "colab": {
          "base_uri": "https://localhost:8080/"
        },
        "id": "ufdbXEaqqVGo",
        "outputId": "90993e4d-3404-4520-baa6-ca822e3754ab"
      },
      "source": [
        "print(c.shape)"
      ],
      "execution_count": 22,
      "outputs": [
        {
          "output_type": "stream",
          "name": "stdout",
          "text": [
            "(5, 5)\n"
          ]
        }
      ]
    },
    {
      "cell_type": "code",
      "metadata": {
        "colab": {
          "base_uri": "https://localhost:8080/"
        },
        "id": "B7n_4EyHqeo4",
        "outputId": "97acbea9-17b6-4252-a00a-ad8d6cad6fac"
      },
      "source": [
        "print(c.ndim)"
      ],
      "execution_count": 23,
      "outputs": [
        {
          "output_type": "stream",
          "name": "stdout",
          "text": [
            "2\n"
          ]
        }
      ]
    },
    {
      "cell_type": "code",
      "metadata": {
        "colab": {
          "base_uri": "https://localhost:8080/"
        },
        "id": "KYA4OkQ5qgf4",
        "outputId": "1003168a-493c-4537-c0a8-d465232a0225"
      },
      "source": [
        "print(c.size)"
      ],
      "execution_count": 24,
      "outputs": [
        {
          "output_type": "stream",
          "name": "stdout",
          "text": [
            "25\n"
          ]
        }
      ]
    },
    {
      "cell_type": "code",
      "metadata": {
        "colab": {
          "base_uri": "https://localhost:8080/"
        },
        "id": "ReX8hpvIqjTI",
        "outputId": "679ac396-b275-40b1-cd25-2aea777338ef"
      },
      "source": [
        "print(c.dtype)"
      ],
      "execution_count": 25,
      "outputs": [
        {
          "output_type": "stream",
          "name": "stdout",
          "text": [
            "int64\n"
          ]
        }
      ]
    },
    {
      "cell_type": "markdown",
      "metadata": {
        "id": "i2HzkUQkqptL"
      },
      "source": [
        "#***Mathematical Operations On A Numpy Array***"
      ]
    },
    {
      "cell_type": "code",
      "metadata": {
        "colab": {
          "base_uri": "https://localhost:8080/"
        },
        "id": "Oby1CnPmqml_",
        "outputId": "eb5cf809-d375-4779-c1c3-e621d0fc1646"
      },
      "source": [
        "list1=[1,3,5,7,9]\n",
        "list2=[2,4,6,8]\n",
        "print(list1+list2)"
      ],
      "execution_count": 26,
      "outputs": [
        {
          "output_type": "stream",
          "name": "stdout",
          "text": [
            "[1, 3, 5, 7, 9, 2, 4, 6, 8]\n"
          ]
        }
      ]
    },
    {
      "cell_type": "code",
      "metadata": {
        "colab": {
          "base_uri": "https://localhost:8080/"
        },
        "id": "jE57ZL2rq5FQ",
        "outputId": "963c6a1c-3519-4de4-c2a6-78bbc7df6855"
      },
      "source": [
        "a=np.random.randint(0,10,(3,3))\n",
        "b=np.random.randint(10,20,(3,3))\n",
        "print(a)\n",
        "print(b)"
      ],
      "execution_count": 27,
      "outputs": [
        {
          "output_type": "stream",
          "name": "stdout",
          "text": [
            "[[7 4 7]\n",
            " [4 5 6]\n",
            " [3 6 2]]\n",
            "[[18 16 16]\n",
            " [19 14 19]\n",
            " [13 14 10]]\n"
          ]
        }
      ]
    },
    {
      "cell_type": "code",
      "metadata": {
        "colab": {
          "base_uri": "https://localhost:8080/"
        },
        "id": "Xpi_eOJ8rYh4",
        "outputId": "5186b6f5-884a-4c28-fc17-20a9f8024596"
      },
      "source": [
        "print(a+b)"
      ],
      "execution_count": 28,
      "outputs": [
        {
          "output_type": "stream",
          "name": "stdout",
          "text": [
            "[[25 20 23]\n",
            " [23 19 25]\n",
            " [16 20 12]]\n"
          ]
        }
      ]
    },
    {
      "cell_type": "code",
      "metadata": {
        "colab": {
          "base_uri": "https://localhost:8080/"
        },
        "id": "lZOA3MFrrcSR",
        "outputId": "81572b1e-aaf0-4109-9d90-88efe60d9f98"
      },
      "source": [
        "print(a-b)"
      ],
      "execution_count": 29,
      "outputs": [
        {
          "output_type": "stream",
          "name": "stdout",
          "text": [
            "[[-11 -12  -9]\n",
            " [-15  -9 -13]\n",
            " [-10  -8  -8]]\n"
          ]
        }
      ]
    },
    {
      "cell_type": "code",
      "metadata": {
        "colab": {
          "base_uri": "https://localhost:8080/"
        },
        "id": "WGBUMoCvrg8Q",
        "outputId": "06112640-25c7-404e-f02e-8d83ccf2e581"
      },
      "source": [
        "print(a*b)"
      ],
      "execution_count": 30,
      "outputs": [
        {
          "output_type": "stream",
          "name": "stdout",
          "text": [
            "[[126  64 112]\n",
            " [ 76  70 114]\n",
            " [ 39  84  20]]\n"
          ]
        }
      ]
    },
    {
      "cell_type": "code",
      "metadata": {
        "colab": {
          "base_uri": "https://localhost:8080/"
        },
        "id": "Hnnoz9ezrj7I",
        "outputId": "d5d4cd84-b7fe-4e76-aa36-04ab73aab470"
      },
      "source": [
        "print(a/b)"
      ],
      "execution_count": 31,
      "outputs": [
        {
          "output_type": "stream",
          "name": "stdout",
          "text": [
            "[[0.38888889 0.25       0.4375    ]\n",
            " [0.21052632 0.35714286 0.31578947]\n",
            " [0.23076923 0.42857143 0.2       ]]\n"
          ]
        }
      ]
    },
    {
      "cell_type": "code",
      "metadata": {
        "colab": {
          "base_uri": "https://localhost:8080/"
        },
        "id": "PftaT6xsrlLa",
        "outputId": "e63bde7c-bb95-4232-a580-525159f2b401"
      },
      "source": [
        "c=np.random.randint(0,10,(3,3))\n",
        "d=np.random.randint(10,20,(3,3))\n",
        "print(c)\n",
        "print(d)"
      ],
      "execution_count": 32,
      "outputs": [
        {
          "output_type": "stream",
          "name": "stdout",
          "text": [
            "[[3 5 4]\n",
            " [2 7 9]\n",
            " [0 0 7]]\n",
            "[[16 10 14]\n",
            " [11 14 19]\n",
            " [16 12 19]]\n"
          ]
        }
      ]
    },
    {
      "cell_type": "code",
      "metadata": {
        "colab": {
          "base_uri": "https://localhost:8080/"
        },
        "id": "M544SgLhr6tA",
        "outputId": "91f2972c-cdfa-42f6-c10b-6c3338d579fa"
      },
      "source": [
        "print(np.add(c,d))"
      ],
      "execution_count": 33,
      "outputs": [
        {
          "output_type": "stream",
          "name": "stdout",
          "text": [
            "[[19 15 18]\n",
            " [13 21 28]\n",
            " [16 12 26]]\n"
          ]
        }
      ]
    },
    {
      "cell_type": "code",
      "metadata": {
        "colab": {
          "base_uri": "https://localhost:8080/"
        },
        "id": "ZSqKCmpKsFQJ",
        "outputId": "94b94ee0-b6ce-47e4-a6bc-7cdfd574a932"
      },
      "source": [
        "print(np.subtract(c,d))"
      ],
      "execution_count": 34,
      "outputs": [
        {
          "output_type": "stream",
          "name": "stdout",
          "text": [
            "[[-13  -5 -10]\n",
            " [ -9  -7 -10]\n",
            " [-16 -12 -12]]\n"
          ]
        }
      ]
    },
    {
      "cell_type": "code",
      "metadata": {
        "colab": {
          "base_uri": "https://localhost:8080/"
        },
        "id": "XDxhmYXnsMK6",
        "outputId": "658bb5be-e8df-4e43-ed10-4c61077fdfc1"
      },
      "source": [
        "print(np.multiply(c,d))"
      ],
      "execution_count": 35,
      "outputs": [
        {
          "output_type": "stream",
          "name": "stdout",
          "text": [
            "[[ 48  50  56]\n",
            " [ 22  98 171]\n",
            " [  0   0 133]]\n"
          ]
        }
      ]
    },
    {
      "cell_type": "code",
      "metadata": {
        "colab": {
          "base_uri": "https://localhost:8080/"
        },
        "id": "WuRq9o1JsPSB",
        "outputId": "4efdf69a-77fa-4c1c-c256-afd815805f0c"
      },
      "source": [
        "print(np.divide(c,d))"
      ],
      "execution_count": 36,
      "outputs": [
        {
          "output_type": "stream",
          "name": "stdout",
          "text": [
            "[[0.1875     0.5        0.28571429]\n",
            " [0.18181818 0.5        0.47368421]\n",
            " [0.         0.         0.36842105]]\n"
          ]
        }
      ]
    },
    {
      "cell_type": "markdown",
      "metadata": {
        "id": "zHNmIa08sUiU"
      },
      "source": [
        "*Array Manipulation*"
      ]
    },
    {
      "cell_type": "code",
      "metadata": {
        "colab": {
          "base_uri": "https://localhost:8080/"
        },
        "id": "-3B6-5FTsRfR",
        "outputId": "9afde868-f8fb-420f-8b7d-0719422f889d"
      },
      "source": [
        "array=np.random.randint(0,10,(2,3))\n",
        "print(array)\n",
        "print(array.shape)"
      ],
      "execution_count": 37,
      "outputs": [
        {
          "output_type": "stream",
          "name": "stdout",
          "text": [
            "[[4 1 0]\n",
            " [8 8 2]]\n",
            "(2, 3)\n"
          ]
        }
      ]
    },
    {
      "cell_type": "code",
      "metadata": {
        "colab": {
          "base_uri": "https://localhost:8080/"
        },
        "id": "Cy5P0SwbsijB",
        "outputId": "36b8915b-e241-4d7f-9de3-3f4b86986a61"
      },
      "source": [
        "trans=np.transpose(array)\n",
        "print(trans)\n",
        "print(trans.shape)"
      ],
      "execution_count": 38,
      "outputs": [
        {
          "output_type": "stream",
          "name": "stdout",
          "text": [
            "[[4 8]\n",
            " [1 8]\n",
            " [0 2]]\n",
            "(3, 2)\n"
          ]
        }
      ]
    },
    {
      "cell_type": "code",
      "metadata": {
        "colab": {
          "base_uri": "https://localhost:8080/"
        },
        "id": "S4JXNDVtsvuB",
        "outputId": "d9ba271e-9434-4981-9f8a-a1517371e416"
      },
      "source": [
        "trans2=array.T\n",
        "print(trans2)\n",
        "print(trans2.shape)"
      ],
      "execution_count": 39,
      "outputs": [
        {
          "output_type": "stream",
          "name": "stdout",
          "text": [
            "[[4 8]\n",
            " [1 8]\n",
            " [0 2]]\n",
            "(3, 2)\n"
          ]
        }
      ]
    },
    {
      "cell_type": "code",
      "metadata": {
        "colab": {
          "base_uri": "https://localhost:8080/"
        },
        "id": "fkSmLpBGs8Qx",
        "outputId": "1a2e8a58-b953-4b06-b771-50152f8eddb8"
      },
      "source": [
        "a=np.random.randint(0,10,(2,3))\n",
        "print(a)\n",
        "print(a.shape)"
      ],
      "execution_count": 40,
      "outputs": [
        {
          "output_type": "stream",
          "name": "stdout",
          "text": [
            "[[6 0 9]\n",
            " [8 5 8]]\n",
            "(2, 3)\n"
          ]
        }
      ]
    },
    {
      "cell_type": "code",
      "metadata": {
        "colab": {
          "base_uri": "https://localhost:8080/"
        },
        "id": "zVbJwgEttFQw",
        "outputId": "36764082-707d-4334-f0bf-5e43364cfb50"
      },
      "source": [
        "b=a.reshape(3,2)\n",
        "print(b)\n",
        "print(b.shape)"
      ],
      "execution_count": 41,
      "outputs": [
        {
          "output_type": "stream",
          "name": "stdout",
          "text": [
            "[[6 0]\n",
            " [9 8]\n",
            " [5 8]]\n",
            "(3, 2)\n"
          ]
        }
      ]
    }
  ]
}