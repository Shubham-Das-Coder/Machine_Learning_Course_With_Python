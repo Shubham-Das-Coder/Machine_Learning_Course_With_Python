{
  "nbformat": 4,
  "nbformat_minor": 0,
  "metadata": {
    "colab": {
      "name": "Python_Basic_Data_Types.ipynb",
      "provenance": [],
      "collapsed_sections": [],
      "authorship_tag": "ABX9TyMJo9PyeBcGHplX2UKNyPbo",
      "include_colab_link": true
    },
    "kernelspec": {
      "name": "python3",
      "display_name": "Python 3"
    },
    "language_info": {
      "name": "python"
    }
  },
  "cells": [
    {
      "cell_type": "markdown",
      "metadata": {
        "id": "view-in-github",
        "colab_type": "text"
      },
      "source": [
        "<a href=\"https://colab.research.google.com/github/Shubham-Das-Coder/Machine_Learning_Course_With_Python/blob/main/Python_Basic_Data_Types.ipynb\" target=\"_parent\"><img src=\"https://colab.research.google.com/assets/colab-badge.svg\" alt=\"Open In Colab\"/></a>"
      ]
    },
    {
      "cell_type": "markdown",
      "metadata": {
        "id": "C8W7Q8BRogpU"
      },
      "source": [
        "#***Integers***"
      ]
    },
    {
      "cell_type": "code",
      "metadata": {
        "colab": {
          "base_uri": "https://localhost:8080/"
        },
        "id": "6GXSFjGTmhJR",
        "outputId": "4c2f134f-8211-4216-919c-21c7c40e923c"
      },
      "source": [
        "a=67\n",
        "print(a)\n",
        "type(a)"
      ],
      "execution_count": 1,
      "outputs": [
        {
          "output_type": "stream",
          "name": "stdout",
          "text": [
            "67\n"
          ]
        },
        {
          "output_type": "execute_result",
          "data": {
            "text/plain": [
              "int"
            ]
          },
          "metadata": {},
          "execution_count": 1
        }
      ]
    },
    {
      "cell_type": "markdown",
      "metadata": {
        "id": "6zFWI-BNomd7"
      },
      "source": [
        "#***Floating points***"
      ]
    },
    {
      "cell_type": "code",
      "metadata": {
        "colab": {
          "base_uri": "https://localhost:8080/"
        },
        "id": "2alMKNT0m0Po",
        "outputId": "d9683719-2937-4a12-ad0b-5bdaac359e49"
      },
      "source": [
        "b=5.3\n",
        "print(b)\n",
        "type(b)"
      ],
      "execution_count": 2,
      "outputs": [
        {
          "output_type": "stream",
          "name": "stdout",
          "text": [
            "5.3\n"
          ]
        },
        {
          "output_type": "execute_result",
          "data": {
            "text/plain": [
              "float"
            ]
          },
          "metadata": {},
          "execution_count": 2
        }
      ]
    },
    {
      "cell_type": "markdown",
      "metadata": {
        "id": "x7d4O4gJoqux"
      },
      "source": [
        "#***Complex numbers***"
      ]
    },
    {
      "cell_type": "code",
      "metadata": {
        "colab": {
          "base_uri": "https://localhost:8080/"
        },
        "id": "Hhl0meaOnBai",
        "outputId": "3d39c36a-c93f-4ef0-bc48-8db9b078ee8f"
      },
      "source": [
        "c=2+3j\n",
        "print(c)\n",
        "type(c)"
      ],
      "execution_count": 3,
      "outputs": [
        {
          "output_type": "stream",
          "name": "stdout",
          "text": [
            "(2+3j)\n"
          ]
        },
        {
          "output_type": "execute_result",
          "data": {
            "text/plain": [
              "complex"
            ]
          },
          "metadata": {},
          "execution_count": 3
        }
      ]
    },
    {
      "cell_type": "markdown",
      "metadata": {
        "id": "_j6koW_iozOK"
      },
      "source": [
        "#***Boolean***"
      ]
    },
    {
      "cell_type": "code",
      "metadata": {
        "colab": {
          "base_uri": "https://localhost:8080/"
        },
        "id": "6_hJakD3nN3x",
        "outputId": "625526ef-4427-42ed-ea4a-1d93fe580fc0"
      },
      "source": [
        "d=True\n",
        "print(d)\n",
        "type(d)\n",
        "e=False\n",
        "print(e)\n",
        "type(e)\n",
        "f=7<2\n",
        "print(f)\n",
        "type(f)"
      ],
      "execution_count": 4,
      "outputs": [
        {
          "output_type": "stream",
          "name": "stdout",
          "text": [
            "True\n",
            "False\n",
            "False\n"
          ]
        },
        {
          "output_type": "execute_result",
          "data": {
            "text/plain": [
              "bool"
            ]
          },
          "metadata": {},
          "execution_count": 4
        }
      ]
    },
    {
      "cell_type": "code",
      "metadata": {
        "colab": {
          "base_uri": "https://localhost:8080/"
        },
        "id": "BGbXEJUxnk45",
        "outputId": "ce9cdd18-c2c9-4ca8-d3f3-48a466973ae2"
      },
      "source": [
        "f=7<2\n",
        "print(f)\n",
        "type(f)"
      ],
      "execution_count": 5,
      "outputs": [
        {
          "output_type": "stream",
          "name": "stdout",
          "text": [
            "False\n"
          ]
        },
        {
          "output_type": "execute_result",
          "data": {
            "text/plain": [
              "bool"
            ]
          },
          "metadata": {},
          "execution_count": 5
        }
      ]
    },
    {
      "cell_type": "code",
      "metadata": {
        "colab": {
          "base_uri": "https://localhost:8080/"
        },
        "id": "8Pl5C8WIoQ5a",
        "outputId": "e89b62b9-dba6-4c0b-d1a7-0661d758f740"
      },
      "source": [
        "g=7>2\n",
        "print(g)\n",
        "type(g)"
      ],
      "execution_count": 6,
      "outputs": [
        {
          "output_type": "stream",
          "name": "stdout",
          "text": [
            "True\n"
          ]
        },
        {
          "output_type": "execute_result",
          "data": {
            "text/plain": [
              "bool"
            ]
          },
          "metadata": {},
          "execution_count": 6
        }
      ]
    },
    {
      "cell_type": "markdown",
      "metadata": {
        "id": "wVy6NFIbpWoK"
      },
      "source": [
        "#***Strings***"
      ]
    },
    {
      "cell_type": "code",
      "metadata": {
        "colab": {
          "base_uri": "https://localhost:8080/"
        },
        "id": "J8Zxt67epP2q",
        "outputId": "0ffa521a-2af4-4ab2-a69b-79583c0bb8b7"
      },
      "source": [
        "h=\"Hello World\"\n",
        "print(h)\n",
        "type(h)"
      ],
      "execution_count": 7,
      "outputs": [
        {
          "output_type": "stream",
          "name": "stdout",
          "text": [
            "Hello World\n"
          ]
        },
        {
          "output_type": "execute_result",
          "data": {
            "text/plain": [
              "str"
            ]
          },
          "metadata": {},
          "execution_count": 7
        }
      ]
    },
    {
      "cell_type": "code",
      "metadata": {
        "colab": {
          "base_uri": "https://localhost:8080/"
        },
        "id": "GM5KavcBpfra",
        "outputId": "16078229-2b94-40b5-88cf-02f883ae2fc7"
      },
      "source": [
        "i='Python'\n",
        "print(i)\n",
        "type(i)"
      ],
      "execution_count": 8,
      "outputs": [
        {
          "output_type": "stream",
          "name": "stdout",
          "text": [
            "Python\n"
          ]
        },
        {
          "output_type": "execute_result",
          "data": {
            "text/plain": [
              "str"
            ]
          },
          "metadata": {},
          "execution_count": 8
        }
      ]
    },
    {
      "cell_type": "code",
      "metadata": {
        "colab": {
          "base_uri": "https://localhost:8080/"
        },
        "id": "e1LPqslIppop",
        "outputId": "fbc3a888-9d5b-429a-cb66-30bdcde2d715"
      },
      "source": [
        "print(\"Hello World \"*5)"
      ],
      "execution_count": 9,
      "outputs": [
        {
          "output_type": "stream",
          "name": "stdout",
          "text": [
            "Hello World Hello World Hello World Hello World Hello World \n"
          ]
        }
      ]
    },
    {
      "cell_type": "code",
      "metadata": {
        "colab": {
          "base_uri": "https://localhost:8080/"
        },
        "id": "uHwbMU2npyO5",
        "outputId": "0b6e442c-e716-4a9c-a2bf-9aaf4ae59062"
      },
      "source": [
        "j=\"Welcome to machine learning. \"\n",
        "print(j*5)"
      ],
      "execution_count": 10,
      "outputs": [
        {
          "output_type": "stream",
          "name": "stdout",
          "text": [
            "Welcome to machine learning. Welcome to machine learning. Welcome to machine learning. Welcome to machine learning. Welcome to machine learning. \n"
          ]
        }
      ]
    },
    {
      "cell_type": "code",
      "metadata": {
        "colab": {
          "base_uri": "https://localhost:8080/"
        },
        "id": "Gop0VHagp995",
        "outputId": "ffedfb72-f08d-44a4-9883-bd624c1ea7e3"
      },
      "source": [
        "#Slicing\n",
        "k=\"Programming\"\n",
        "print(k[:])\n",
        "print(k[2:])\n",
        "print(k[:5])\n",
        "print(k[3:6])"
      ],
      "execution_count": 11,
      "outputs": [
        {
          "output_type": "stream",
          "name": "stdout",
          "text": [
            "Programming\n",
            "ogramming\n",
            "Progr\n",
            "gra\n"
          ]
        }
      ]
    },
    {
      "cell_type": "code",
      "metadata": {
        "colab": {
          "base_uri": "https://localhost:8080/"
        },
        "id": "mdlBb4TZqbT5",
        "outputId": "aeab35c8-3333-4149-9368-a5ff967d06a1"
      },
      "source": [
        "#Step\n",
        "l=\"Determined\"\n",
        "print(l[0:10:2])\n",
        "print(l[2:9:2])"
      ],
      "execution_count": 12,
      "outputs": [
        {
          "output_type": "stream",
          "name": "stdout",
          "text": [
            "Dtrie\n",
            "trie\n"
          ]
        }
      ]
    },
    {
      "cell_type": "code",
      "metadata": {
        "colab": {
          "base_uri": "https://localhost:8080/"
        },
        "id": "uctVLwe4q2N5",
        "outputId": "b4df776c-add9-45e0-dbc0-e8634fc0ba48"
      },
      "source": [
        "#Concatenation\n",
        "m=\"Google \"\n",
        "n=\"Colaboratory\"\n",
        "print(m+n)"
      ],
      "execution_count": 13,
      "outputs": [
        {
          "output_type": "stream",
          "name": "stdout",
          "text": [
            "Google Colaboratory\n"
          ]
        }
      ]
    },
    {
      "cell_type": "markdown",
      "metadata": {
        "id": "PIaHG5dBrWYj"
      },
      "source": [
        "#***Type Conversion***"
      ]
    },
    {
      "cell_type": "code",
      "metadata": {
        "colab": {
          "base_uri": "https://localhost:8080/"
        },
        "id": "aHTQ6ZwqrOhh",
        "outputId": "9923ade9-cd60-4c9e-f937-37268b3a4674"
      },
      "source": [
        "o=43\n",
        "p=float(o)\n",
        "print(p)\n",
        "type(p)"
      ],
      "execution_count": 14,
      "outputs": [
        {
          "output_type": "stream",
          "name": "stdout",
          "text": [
            "43.0\n"
          ]
        },
        {
          "output_type": "execute_result",
          "data": {
            "text/plain": [
              "float"
            ]
          },
          "metadata": {},
          "execution_count": 14
        }
      ]
    },
    {
      "cell_type": "code",
      "metadata": {
        "colab": {
          "base_uri": "https://localhost:8080/"
        },
        "id": "4TxPo23WrkyD",
        "outputId": "3e51a982-8c30-4267-8ee7-b849a80fdd17"
      },
      "source": [
        "q=85.14\n",
        "r=int(q)    \n",
        "print(r)\n",
        "type(r)"
      ],
      "execution_count": 15,
      "outputs": [
        {
          "output_type": "stream",
          "name": "stdout",
          "text": [
            "85\n"
          ]
        },
        {
          "output_type": "execute_result",
          "data": {
            "text/plain": [
              "int"
            ]
          },
          "metadata": {},
          "execution_count": 15
        }
      ]
    }
  ]
}