{
  "nbformat": 4,
  "nbformat_minor": 0,
  "metadata": {
    "colab": {
      "name": "Python_Basic_Data_Types.ipynb",
      "provenance": [],
      "collapsed_sections": [],
      "authorship_tag": "ABX9TyMqD6MFM9uTxiq8rKJUn9wk",
      "include_colab_link": true
    },
    "kernelspec": {
      "name": "python3",
      "display_name": "Python 3"
    },
    "language_info": {
      "name": "python"
    }
  },
  "cells": [
    {
      "cell_type": "markdown",
      "metadata": {
        "id": "view-in-github",
        "colab_type": "text"
      },
      "source": [
        "<a href=\"https://colab.research.google.com/github/Shubham-Das-Coder/Machine_Learning_Course_With_Python/blob/main/Python_Basic_Data_Types.ipynb\" target=\"_parent\"><img src=\"https://colab.research.google.com/assets/colab-badge.svg\" alt=\"Open In Colab\"/></a>"
      ]
    },
    {
      "cell_type": "markdown",
      "metadata": {
        "id": "C8W7Q8BRogpU"
      },
      "source": [
        "#*Integers*"
      ]
    },
    {
      "cell_type": "code",
      "metadata": {
        "colab": {
          "base_uri": "https://localhost:8080/"
        },
        "id": "6GXSFjGTmhJR",
        "outputId": "e086c597-7265-4d72-a4b9-6a04361a1645"
      },
      "source": [
        "a=67\n",
        "print(a)\n",
        "type(a)"
      ],
      "execution_count": 1,
      "outputs": [
        {
          "output_type": "stream",
          "name": "stdout",
          "text": [
            "67\n"
          ]
        },
        {
          "output_type": "execute_result",
          "data": {
            "text/plain": [
              "int"
            ]
          },
          "metadata": {},
          "execution_count": 1
        }
      ]
    },
    {
      "cell_type": "markdown",
      "metadata": {
        "id": "6zFWI-BNomd7"
      },
      "source": [
        "#*Floating points*"
      ]
    },
    {
      "cell_type": "code",
      "metadata": {
        "colab": {
          "base_uri": "https://localhost:8080/"
        },
        "id": "2alMKNT0m0Po",
        "outputId": "ccefa566-6502-4bab-c00d-8abd1abf738e"
      },
      "source": [
        "b=5.3\n",
        "print(b)\n",
        "type(b)"
      ],
      "execution_count": 2,
      "outputs": [
        {
          "output_type": "stream",
          "name": "stdout",
          "text": [
            "5.3\n"
          ]
        },
        {
          "output_type": "execute_result",
          "data": {
            "text/plain": [
              "float"
            ]
          },
          "metadata": {},
          "execution_count": 2
        }
      ]
    },
    {
      "cell_type": "markdown",
      "metadata": {
        "id": "x7d4O4gJoqux"
      },
      "source": [
        "#*Complex numbers*"
      ]
    },
    {
      "cell_type": "code",
      "metadata": {
        "colab": {
          "base_uri": "https://localhost:8080/"
        },
        "id": "Hhl0meaOnBai",
        "outputId": "49c68d73-c7ab-4d16-b14a-50858a8cef51"
      },
      "source": [
        "c=2+3j\n",
        "print(c)\n",
        "type(c)"
      ],
      "execution_count": 3,
      "outputs": [
        {
          "output_type": "stream",
          "name": "stdout",
          "text": [
            "(2+3j)\n"
          ]
        },
        {
          "output_type": "execute_result",
          "data": {
            "text/plain": [
              "complex"
            ]
          },
          "metadata": {},
          "execution_count": 3
        }
      ]
    },
    {
      "cell_type": "markdown",
      "metadata": {
        "id": "_j6koW_iozOK"
      },
      "source": [
        "#*Boolean*"
      ]
    },
    {
      "cell_type": "code",
      "metadata": {
        "colab": {
          "base_uri": "https://localhost:8080/"
        },
        "id": "6_hJakD3nN3x",
        "outputId": "07154c04-0d85-43eb-9cb2-f07ee5c35708"
      },
      "source": [
        "d=True\n",
        "print(d)\n",
        "type(d)\n",
        "e=False\n",
        "print(e)\n",
        "type(e)\n",
        "f=7<2\n",
        "print(f)\n",
        "type(f)"
      ],
      "execution_count": 4,
      "outputs": [
        {
          "output_type": "stream",
          "name": "stdout",
          "text": [
            "True\n",
            "False\n",
            "False\n"
          ]
        },
        {
          "output_type": "execute_result",
          "data": {
            "text/plain": [
              "bool"
            ]
          },
          "metadata": {},
          "execution_count": 4
        }
      ]
    },
    {
      "cell_type": "code",
      "metadata": {
        "colab": {
          "base_uri": "https://localhost:8080/"
        },
        "id": "BGbXEJUxnk45",
        "outputId": "f79557c8-7e0d-4d86-eba8-5e820791e79a"
      },
      "source": [
        "f=7<2\n",
        "print(f)\n",
        "type(f)"
      ],
      "execution_count": 5,
      "outputs": [
        {
          "output_type": "stream",
          "name": "stdout",
          "text": [
            "False\n"
          ]
        },
        {
          "output_type": "execute_result",
          "data": {
            "text/plain": [
              "bool"
            ]
          },
          "metadata": {},
          "execution_count": 5
        }
      ]
    },
    {
      "cell_type": "code",
      "metadata": {
        "colab": {
          "base_uri": "https://localhost:8080/"
        },
        "id": "8Pl5C8WIoQ5a",
        "outputId": "48bfaf37-de75-4212-b6fc-61cc950374bb"
      },
      "source": [
        "g=7>2\n",
        "print(g)\n",
        "type(g)"
      ],
      "execution_count": 6,
      "outputs": [
        {
          "output_type": "stream",
          "name": "stdout",
          "text": [
            "True\n"
          ]
        },
        {
          "output_type": "execute_result",
          "data": {
            "text/plain": [
              "bool"
            ]
          },
          "metadata": {},
          "execution_count": 6
        }
      ]
    },
    {
      "cell_type": "markdown",
      "metadata": {
        "id": "wVy6NFIbpWoK"
      },
      "source": [
        "#*Strings*"
      ]
    },
    {
      "cell_type": "code",
      "metadata": {
        "colab": {
          "base_uri": "https://localhost:8080/"
        },
        "id": "J8Zxt67epP2q",
        "outputId": "d75ee9f8-1bd6-458e-a5fc-d3e9e9e06cd5"
      },
      "source": [
        "h=\"Hello World\"\n",
        "print(h)\n",
        "type(h)"
      ],
      "execution_count": 7,
      "outputs": [
        {
          "output_type": "stream",
          "name": "stdout",
          "text": [
            "Hello World\n"
          ]
        },
        {
          "output_type": "execute_result",
          "data": {
            "text/plain": [
              "str"
            ]
          },
          "metadata": {},
          "execution_count": 7
        }
      ]
    },
    {
      "cell_type": "code",
      "metadata": {
        "colab": {
          "base_uri": "https://localhost:8080/"
        },
        "id": "GM5KavcBpfra",
        "outputId": "4e53373c-2951-482a-ed12-d343d299fbcd"
      },
      "source": [
        "i='Python'\n",
        "print(i)\n",
        "type(i)"
      ],
      "execution_count": 8,
      "outputs": [
        {
          "output_type": "stream",
          "name": "stdout",
          "text": [
            "Python\n"
          ]
        },
        {
          "output_type": "execute_result",
          "data": {
            "text/plain": [
              "str"
            ]
          },
          "metadata": {},
          "execution_count": 8
        }
      ]
    },
    {
      "cell_type": "code",
      "metadata": {
        "colab": {
          "base_uri": "https://localhost:8080/"
        },
        "id": "e1LPqslIppop",
        "outputId": "ac09a60d-b8ce-42a4-bbd2-1898bbce75db"
      },
      "source": [
        "print(\"Hello World \"*5)"
      ],
      "execution_count": 9,
      "outputs": [
        {
          "output_type": "stream",
          "name": "stdout",
          "text": [
            "Hello World Hello World Hello World Hello World Hello World \n"
          ]
        }
      ]
    },
    {
      "cell_type": "code",
      "metadata": {
        "colab": {
          "base_uri": "https://localhost:8080/"
        },
        "id": "uHwbMU2npyO5",
        "outputId": "12f8b8c8-5d05-4388-a564-2ef24cda9109"
      },
      "source": [
        "j=\"Welcome to machine learning. \"\n",
        "print(j*5)"
      ],
      "execution_count": 10,
      "outputs": [
        {
          "output_type": "stream",
          "name": "stdout",
          "text": [
            "Welcome to machine learning. Welcome to machine learning. Welcome to machine learning. Welcome to machine learning. Welcome to machine learning. \n"
          ]
        }
      ]
    },
    {
      "cell_type": "code",
      "metadata": {
        "colab": {
          "base_uri": "https://localhost:8080/"
        },
        "id": "Gop0VHagp995",
        "outputId": "31920bf3-7dcd-4476-a9d5-3bafe7dca638"
      },
      "source": [
        "#Slicing\n",
        "k=\"Programming\"\n",
        "print(k[:])\n",
        "print(k[2:])\n",
        "print(k[:5])\n",
        "print(k[3:6])"
      ],
      "execution_count": 11,
      "outputs": [
        {
          "output_type": "stream",
          "name": "stdout",
          "text": [
            "Programming\n",
            "ogramming\n",
            "Progr\n",
            "gra\n"
          ]
        }
      ]
    },
    {
      "cell_type": "code",
      "metadata": {
        "colab": {
          "base_uri": "https://localhost:8080/"
        },
        "id": "mdlBb4TZqbT5",
        "outputId": "ef05fe90-4e71-4859-c139-4fab474e0373"
      },
      "source": [
        "#Step\n",
        "l=\"Determined\"\n",
        "print(l[0:10:2])\n",
        "print(l[2:9:2])"
      ],
      "execution_count": 12,
      "outputs": [
        {
          "output_type": "stream",
          "name": "stdout",
          "text": [
            "Dtrie\n",
            "trie\n"
          ]
        }
      ]
    },
    {
      "cell_type": "code",
      "metadata": {
        "colab": {
          "base_uri": "https://localhost:8080/"
        },
        "id": "uctVLwe4q2N5",
        "outputId": "a1ffc06a-a4a1-4b3b-c077-52f4c95a81b7"
      },
      "source": [
        "#Concatenation\n",
        "m=\"Google \"\n",
        "n=\"Colaboratory\"\n",
        "print(m+n)"
      ],
      "execution_count": 13,
      "outputs": [
        {
          "output_type": "stream",
          "name": "stdout",
          "text": [
            "Google Colaboratory\n"
          ]
        }
      ]
    },
    {
      "cell_type": "markdown",
      "metadata": {
        "id": "PIaHG5dBrWYj"
      },
      "source": [
        "#*Type Conversion*"
      ]
    },
    {
      "cell_type": "code",
      "metadata": {
        "colab": {
          "base_uri": "https://localhost:8080/"
        },
        "id": "aHTQ6ZwqrOhh",
        "outputId": "5254e3ce-068d-4c1b-fc97-4d9b733bfd98"
      },
      "source": [
        "o=43\n",
        "p=float(o)\n",
        "print(p)\n",
        "type(p)"
      ],
      "execution_count": 14,
      "outputs": [
        {
          "output_type": "stream",
          "name": "stdout",
          "text": [
            "43.0\n"
          ]
        },
        {
          "output_type": "execute_result",
          "data": {
            "text/plain": [
              "float"
            ]
          },
          "metadata": {},
          "execution_count": 14
        }
      ]
    },
    {
      "cell_type": "code",
      "metadata": {
        "colab": {
          "base_uri": "https://localhost:8080/"
        },
        "id": "4TxPo23WrkyD",
        "outputId": "2a6aba7f-8d49-400c-c0cf-535e0a88967c"
      },
      "source": [
        "q=85.14\n",
        "r=int(q)\n",
        "print(r)\n",
        "type(r)"
      ],
      "execution_count": 15,
      "outputs": [
        {
          "output_type": "stream",
          "name": "stdout",
          "text": [
            "85\n"
          ]
        },
        {
          "output_type": "execute_result",
          "data": {
            "text/plain": [
              "int"
            ]
          },
          "metadata": {},
          "execution_count": 15
        }
      ]
    }
  ]
}